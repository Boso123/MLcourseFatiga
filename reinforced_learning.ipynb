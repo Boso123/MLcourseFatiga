{
  "nbformat": 4,
  "nbformat_minor": 0,
  "metadata": {
    "colab": {
      "name": "reinforced_learning.ipynb",
      "provenance": [],
      "collapsed_sections": [],
      "mount_file_id": "1dAdnMQHL3iWuZb4KQPCIal0v7D1oN55e",
      "authorship_tag": "ABX9TyNKPHp8e9PC4M316J3YQqQy",
      "include_colab_link": true
    },
    "kernelspec": {
      "name": "python3",
      "display_name": "Python 3"
    }
  },
  "cells": [
    {
      "cell_type": "markdown",
      "metadata": {
        "id": "view-in-github",
        "colab_type": "text"
      },
      "source": [
        "<a href=\"https://colab.research.google.com/github/Boso123/MLcourseFatiga/blob/master/reinforced_learning.ipynb\" target=\"_parent\"><img src=\"https://colab.research.google.com/assets/colab-badge.svg\" alt=\"Open In Colab\"/></a>"
      ]
    },
    {
      "cell_type": "code",
      "metadata": {
        "id": "51U2Hm7Fd4tq",
        "colab_type": "code",
        "colab": {
          "base_uri": "https://localhost:8080/",
          "height": 67
        },
        "outputId": "d7b734a5-bea2-498f-acbd-c47b43a4740b"
      },
      "source": [
        "!pip install xgboost"
      ],
      "execution_count": 1,
      "outputs": [
        {
          "output_type": "stream",
          "text": [
            "Requirement already satisfied: xgboost in /usr/local/lib/python3.6/dist-packages (0.90)\n",
            "Requirement already satisfied: scipy in /usr/local/lib/python3.6/dist-packages (from xgboost) (1.4.1)\n",
            "Requirement already satisfied: numpy in /usr/local/lib/python3.6/dist-packages (from xgboost) (1.18.4)\n"
          ],
          "name": "stdout"
        }
      ]
    },
    {
      "cell_type": "markdown",
      "metadata": {
        "id": "eS0BWsFtlwb1",
        "colab_type": "text"
      },
      "source": [
        "# Primero determinaremos las politicas para saber la recompenza y los castigos"
      ]
    },
    {
      "cell_type": "markdown",
      "metadata": {
        "id": "VK2pFYAgV4iK",
        "colab_type": "text"
      },
      "source": [
        "## Proceso de limpieza"
      ]
    },
    {
      "cell_type": "code",
      "metadata": {
        "id": "aVuMiviMyIKZ",
        "colab_type": "code",
        "colab": {
          "base_uri": "https://localhost:8080/",
          "height": 70
        },
        "outputId": "3d7294b6-c87d-462a-a8a3-a61de264081b"
      },
      "source": [
        "import pandas as pd\n",
        "import matplotlib.pyplot as plt\n",
        "from matplotlib import figure\n",
        "import seaborn as sns\n",
        "from matplotlib import pyplot, dates\n",
        "import numpy as np\n",
        "import xgboost as xgb\n",
        "import pickle\n",
        "from geopy.geocoders import  Nominatim\n",
        "from sklearn.model_selection import train_test_split"
      ],
      "execution_count": 2,
      "outputs": [
        {
          "output_type": "stream",
          "text": [
            "/usr/local/lib/python3.6/dist-packages/statsmodels/tools/_testing.py:19: FutureWarning: pandas.util.testing is deprecated. Use the functions in the public API at pandas.testing instead.\n",
            "  import pandas.util.testing as tm\n"
          ],
          "name": "stderr"
        }
      ]
    },
    {
      "cell_type": "code",
      "metadata": {
        "id": "lm2YqZKblLt9",
        "colab_type": "code",
        "outputId": "c9d6bcc9-f4fd-4b49-9018-bfaf673842c9",
        "colab": {
          "base_uri": "https://localhost:8080/",
          "height": 50
        }
      },
      "source": [
        "trafic_data = pd.read_csv('/content/drive/My Drive/MicrosuenosData/yellow_tripdata_2019-12.csv', engine=\"c\", infer_datetime_format=True, parse_dates=[2,3])"
      ],
      "execution_count": 3,
      "outputs": [
        {
          "output_type": "stream",
          "text": [
            "/usr/local/lib/python3.6/dist-packages/IPython/core/interactiveshell.py:2718: DtypeWarning: Columns (6) have mixed types.Specify dtype option on import or set low_memory=False.\n",
            "  interactivity=interactivity, compiler=compiler, result=result)\n"
          ],
          "name": "stderr"
        }
      ]
    },
    {
      "cell_type": "code",
      "metadata": {
        "id": "g-qWGzQgy6NI",
        "colab_type": "code",
        "outputId": "19e2c7ec-ed0b-49da-bd87-c27fceff039a",
        "colab": {
          "base_uri": "https://localhost:8080/",
          "height": 215
        }
      },
      "source": [
        "trafic_data.head()"
      ],
      "execution_count": 4,
      "outputs": [
        {
          "output_type": "execute_result",
          "data": {
            "text/html": [
              "<div>\n",
              "<style scoped>\n",
              "    .dataframe tbody tr th:only-of-type {\n",
              "        vertical-align: middle;\n",
              "    }\n",
              "\n",
              "    .dataframe tbody tr th {\n",
              "        vertical-align: top;\n",
              "    }\n",
              "\n",
              "    .dataframe thead th {\n",
              "        text-align: right;\n",
              "    }\n",
              "</style>\n",
              "<table border=\"1\" class=\"dataframe\">\n",
              "  <thead>\n",
              "    <tr style=\"text-align: right;\">\n",
              "      <th></th>\n",
              "      <th>VendorID</th>\n",
              "      <th>tpep_pickup_datetime</th>\n",
              "      <th>tpep_dropoff_datetime</th>\n",
              "      <th>passenger_count</th>\n",
              "      <th>trip_distance</th>\n",
              "      <th>RatecodeID</th>\n",
              "      <th>store_and_fwd_flag</th>\n",
              "      <th>PULocationID</th>\n",
              "      <th>DOLocationID</th>\n",
              "      <th>payment_type</th>\n",
              "      <th>fare_amount</th>\n",
              "      <th>extra</th>\n",
              "      <th>mta_tax</th>\n",
              "      <th>tip_amount</th>\n",
              "      <th>tolls_amount</th>\n",
              "      <th>improvement_surcharge</th>\n",
              "      <th>total_amount</th>\n",
              "      <th>congestion_surcharge</th>\n",
              "    </tr>\n",
              "  </thead>\n",
              "  <tbody>\n",
              "    <tr>\n",
              "      <th>0</th>\n",
              "      <td>1.0</td>\n",
              "      <td>2019-12-01 00:26:58</td>\n",
              "      <td>2019-12-01 00:41:45</td>\n",
              "      <td>1</td>\n",
              "      <td>4.2</td>\n",
              "      <td>1.0</td>\n",
              "      <td>N</td>\n",
              "      <td>142</td>\n",
              "      <td>116</td>\n",
              "      <td>2.0</td>\n",
              "      <td>14.5</td>\n",
              "      <td>3.0</td>\n",
              "      <td>0.5</td>\n",
              "      <td>0.0</td>\n",
              "      <td>0.0</td>\n",
              "      <td>0.3</td>\n",
              "      <td>18.3</td>\n",
              "      <td>2.5</td>\n",
              "    </tr>\n",
              "    <tr>\n",
              "      <th>1</th>\n",
              "      <td>1.0</td>\n",
              "      <td>2019-12-01 00:12:08</td>\n",
              "      <td>2019-12-01 00:12:14</td>\n",
              "      <td>1</td>\n",
              "      <td>0.0</td>\n",
              "      <td>1.0</td>\n",
              "      <td>N</td>\n",
              "      <td>145</td>\n",
              "      <td>145</td>\n",
              "      <td>2.0</td>\n",
              "      <td>2.5</td>\n",
              "      <td>0.5</td>\n",
              "      <td>0.5</td>\n",
              "      <td>0.0</td>\n",
              "      <td>0.0</td>\n",
              "      <td>0.3</td>\n",
              "      <td>3.8</td>\n",
              "      <td>0.0</td>\n",
              "    </tr>\n",
              "    <tr>\n",
              "      <th>2</th>\n",
              "      <td>1.0</td>\n",
              "      <td>2019-12-01 00:25:53</td>\n",
              "      <td>2019-12-01 00:26:04</td>\n",
              "      <td>1</td>\n",
              "      <td>0.0</td>\n",
              "      <td>1.0</td>\n",
              "      <td>N</td>\n",
              "      <td>145</td>\n",
              "      <td>145</td>\n",
              "      <td>2.0</td>\n",
              "      <td>2.5</td>\n",
              "      <td>0.5</td>\n",
              "      <td>0.5</td>\n",
              "      <td>0.0</td>\n",
              "      <td>0.0</td>\n",
              "      <td>0.3</td>\n",
              "      <td>3.8</td>\n",
              "      <td>0.0</td>\n",
              "    </tr>\n",
              "    <tr>\n",
              "      <th>3</th>\n",
              "      <td>1.0</td>\n",
              "      <td>2019-12-01 00:12:03</td>\n",
              "      <td>2019-12-01 00:33:19</td>\n",
              "      <td>2</td>\n",
              "      <td>9.4</td>\n",
              "      <td>1.0</td>\n",
              "      <td>N</td>\n",
              "      <td>138</td>\n",
              "      <td>25</td>\n",
              "      <td>1.0</td>\n",
              "      <td>28.5</td>\n",
              "      <td>0.5</td>\n",
              "      <td>0.5</td>\n",
              "      <td>10.0</td>\n",
              "      <td>0.0</td>\n",
              "      <td>0.3</td>\n",
              "      <td>39.8</td>\n",
              "      <td>0.0</td>\n",
              "    </tr>\n",
              "    <tr>\n",
              "      <th>4</th>\n",
              "      <td>1.0</td>\n",
              "      <td>2019-12-01 00:05:27</td>\n",
              "      <td>2019-12-01 00:16:32</td>\n",
              "      <td>2</td>\n",
              "      <td>1.6</td>\n",
              "      <td>1.0</td>\n",
              "      <td>N</td>\n",
              "      <td>161</td>\n",
              "      <td>237</td>\n",
              "      <td>2.0</td>\n",
              "      <td>9.0</td>\n",
              "      <td>3.0</td>\n",
              "      <td>0.5</td>\n",
              "      <td>0.0</td>\n",
              "      <td>0.0</td>\n",
              "      <td>0.3</td>\n",
              "      <td>12.8</td>\n",
              "      <td>2.5</td>\n",
              "    </tr>\n",
              "  </tbody>\n",
              "</table>\n",
              "</div>"
            ],
            "text/plain": [
              "   VendorID tpep_pickup_datetime  ... total_amount congestion_surcharge\n",
              "0       1.0  2019-12-01 00:26:58  ...         18.3                  2.5\n",
              "1       1.0  2019-12-01 00:12:08  ...          3.8                  0.0\n",
              "2       1.0  2019-12-01 00:25:53  ...          3.8                  0.0\n",
              "3       1.0  2019-12-01 00:12:03  ...         39.8                  0.0\n",
              "4       1.0  2019-12-01 00:05:27  ...         12.8                  2.5\n",
              "\n",
              "[5 rows x 18 columns]"
            ]
          },
          "metadata": {
            "tags": []
          },
          "execution_count": 4
        }
      ]
    },
    {
      "cell_type": "code",
      "metadata": {
        "id": "jFy6vOsDzAOJ",
        "colab_type": "code",
        "outputId": "b27a1395-16bc-4ff4-82d4-e4e530a28874",
        "colab": {
          "base_uri": "https://localhost:8080/",
          "height": 321
        }
      },
      "source": [
        "trafic_data.describe()"
      ],
      "execution_count": 5,
      "outputs": [
        {
          "output_type": "execute_result",
          "data": {
            "text/html": [
              "<div>\n",
              "<style scoped>\n",
              "    .dataframe tbody tr th:only-of-type {\n",
              "        vertical-align: middle;\n",
              "    }\n",
              "\n",
              "    .dataframe tbody tr th {\n",
              "        vertical-align: top;\n",
              "    }\n",
              "\n",
              "    .dataframe thead th {\n",
              "        text-align: right;\n",
              "    }\n",
              "</style>\n",
              "<table border=\"1\" class=\"dataframe\">\n",
              "  <thead>\n",
              "    <tr style=\"text-align: right;\">\n",
              "      <th></th>\n",
              "      <th>VendorID</th>\n",
              "      <th>trip_distance</th>\n",
              "      <th>RatecodeID</th>\n",
              "      <th>PULocationID</th>\n",
              "      <th>DOLocationID</th>\n",
              "      <th>payment_type</th>\n",
              "      <th>fare_amount</th>\n",
              "      <th>extra</th>\n",
              "      <th>mta_tax</th>\n",
              "      <th>tip_amount</th>\n",
              "      <th>tolls_amount</th>\n",
              "      <th>improvement_surcharge</th>\n",
              "      <th>total_amount</th>\n",
              "      <th>congestion_surcharge</th>\n",
              "    </tr>\n",
              "  </thead>\n",
              "  <tbody>\n",
              "    <tr>\n",
              "      <th>count</th>\n",
              "      <td>6.845299e+06</td>\n",
              "      <td>6.896317e+06</td>\n",
              "      <td>6.845299e+06</td>\n",
              "      <td>6.896317e+06</td>\n",
              "      <td>6.896317e+06</td>\n",
              "      <td>6.845299e+06</td>\n",
              "      <td>6.896317e+06</td>\n",
              "      <td>6.896317e+06</td>\n",
              "      <td>6.896317e+06</td>\n",
              "      <td>6.896317e+06</td>\n",
              "      <td>6.896317e+06</td>\n",
              "      <td>6.896317e+06</td>\n",
              "      <td>6.896317e+06</td>\n",
              "      <td>6.896317e+06</td>\n",
              "    </tr>\n",
              "    <tr>\n",
              "      <th>mean</th>\n",
              "      <td>1.666457e+00</td>\n",
              "      <td>2.973421e+00</td>\n",
              "      <td>1.065756e+00</td>\n",
              "      <td>1.636525e+02</td>\n",
              "      <td>1.614892e+02</td>\n",
              "      <td>1.298993e+00</td>\n",
              "      <td>1.359027e+01</td>\n",
              "      <td>1.108518e+00</td>\n",
              "      <td>4.924147e-01</td>\n",
              "      <td>2.244620e+00</td>\n",
              "      <td>3.881238e-01</td>\n",
              "      <td>2.979857e-01</td>\n",
              "      <td>1.964165e+01</td>\n",
              "      <td>2.275278e+00</td>\n",
              "    </tr>\n",
              "    <tr>\n",
              "      <th>std</th>\n",
              "      <td>4.714787e-01</td>\n",
              "      <td>1.643113e+01</td>\n",
              "      <td>9.309869e-01</td>\n",
              "      <td>6.605758e+01</td>\n",
              "      <td>7.033753e+01</td>\n",
              "      <td>4.879401e-01</td>\n",
              "      <td>1.522692e+02</td>\n",
              "      <td>1.259892e+00</td>\n",
              "      <td>7.233857e-02</td>\n",
              "      <td>2.875127e+00</td>\n",
              "      <td>1.715502e+00</td>\n",
              "      <td>3.381444e-02</td>\n",
              "      <td>1.525236e+02</td>\n",
              "      <td>7.359669e-01</td>\n",
              "    </tr>\n",
              "    <tr>\n",
              "      <th>min</th>\n",
              "      <td>1.000000e+00</td>\n",
              "      <td>-3.726453e+04</td>\n",
              "      <td>1.000000e+00</td>\n",
              "      <td>1.000000e+00</td>\n",
              "      <td>1.000000e+00</td>\n",
              "      <td>1.000000e+00</td>\n",
              "      <td>-1.472000e+03</td>\n",
              "      <td>-4.500000e+00</td>\n",
              "      <td>-5.000000e-01</td>\n",
              "      <td>-2.008000e+02</td>\n",
              "      <td>-4.050000e+01</td>\n",
              "      <td>-3.000000e-01</td>\n",
              "      <td>-1.472800e+03</td>\n",
              "      <td>-2.500000e+00</td>\n",
              "    </tr>\n",
              "    <tr>\n",
              "      <th>25%</th>\n",
              "      <td>1.000000e+00</td>\n",
              "      <td>9.600000e-01</td>\n",
              "      <td>1.000000e+00</td>\n",
              "      <td>1.250000e+02</td>\n",
              "      <td>1.120000e+02</td>\n",
              "      <td>1.000000e+00</td>\n",
              "      <td>6.500000e+00</td>\n",
              "      <td>0.000000e+00</td>\n",
              "      <td>5.000000e-01</td>\n",
              "      <td>0.000000e+00</td>\n",
              "      <td>0.000000e+00</td>\n",
              "      <td>3.000000e-01</td>\n",
              "      <td>1.130000e+01</td>\n",
              "      <td>2.500000e+00</td>\n",
              "    </tr>\n",
              "    <tr>\n",
              "      <th>50%</th>\n",
              "      <td>2.000000e+00</td>\n",
              "      <td>1.600000e+00</td>\n",
              "      <td>1.000000e+00</td>\n",
              "      <td>1.620000e+02</td>\n",
              "      <td>1.620000e+02</td>\n",
              "      <td>1.000000e+00</td>\n",
              "      <td>9.500000e+00</td>\n",
              "      <td>5.000000e-01</td>\n",
              "      <td>5.000000e-01</td>\n",
              "      <td>1.920000e+00</td>\n",
              "      <td>0.000000e+00</td>\n",
              "      <td>3.000000e-01</td>\n",
              "      <td>1.480000e+01</td>\n",
              "      <td>2.500000e+00</td>\n",
              "    </tr>\n",
              "    <tr>\n",
              "      <th>75%</th>\n",
              "      <td>2.000000e+00</td>\n",
              "      <td>3.030000e+00</td>\n",
              "      <td>1.000000e+00</td>\n",
              "      <td>2.330000e+02</td>\n",
              "      <td>2.340000e+02</td>\n",
              "      <td>2.000000e+00</td>\n",
              "      <td>1.543000e+01</td>\n",
              "      <td>2.500000e+00</td>\n",
              "      <td>5.000000e-01</td>\n",
              "      <td>3.000000e+00</td>\n",
              "      <td>0.000000e+00</td>\n",
              "      <td>3.000000e-01</td>\n",
              "      <td>2.135000e+01</td>\n",
              "      <td>2.500000e+00</td>\n",
              "    </tr>\n",
              "    <tr>\n",
              "      <th>max</th>\n",
              "      <td>2.000000e+00</td>\n",
              "      <td>1.913018e+04</td>\n",
              "      <td>9.900000e+01</td>\n",
              "      <td>2.650000e+02</td>\n",
              "      <td>2.650000e+02</td>\n",
              "      <td>5.000000e+00</td>\n",
              "      <td>3.984684e+05</td>\n",
              "      <td>9.006000e+01</td>\n",
              "      <td>3.300000e+00</td>\n",
              "      <td>4.044400e+02</td>\n",
              "      <td>6.126600e+02</td>\n",
              "      <td>3.000000e-01</td>\n",
              "      <td>3.984712e+05</td>\n",
              "      <td>3.000000e+00</td>\n",
              "    </tr>\n",
              "  </tbody>\n",
              "</table>\n",
              "</div>"
            ],
            "text/plain": [
              "           VendorID  trip_distance  ...  total_amount  congestion_surcharge\n",
              "count  6.845299e+06   6.896317e+06  ...  6.896317e+06          6.896317e+06\n",
              "mean   1.666457e+00   2.973421e+00  ...  1.964165e+01          2.275278e+00\n",
              "std    4.714787e-01   1.643113e+01  ...  1.525236e+02          7.359669e-01\n",
              "min    1.000000e+00  -3.726453e+04  ... -1.472800e+03         -2.500000e+00\n",
              "25%    1.000000e+00   9.600000e-01  ...  1.130000e+01          2.500000e+00\n",
              "50%    2.000000e+00   1.600000e+00  ...  1.480000e+01          2.500000e+00\n",
              "75%    2.000000e+00   3.030000e+00  ...  2.135000e+01          2.500000e+00\n",
              "max    2.000000e+00   1.913018e+04  ...  3.984712e+05          3.000000e+00\n",
              "\n",
              "[8 rows x 14 columns]"
            ]
          },
          "metadata": {
            "tags": []
          },
          "execution_count": 5
        }
      ]
    },
    {
      "cell_type": "code",
      "metadata": {
        "id": "zB3dTbbOyCly",
        "colab_type": "code",
        "colab": {}
      },
      "source": [
        "trafic_data['tpep_dropoff_datetime'] = pd.to_datetime(trafic_data['tpep_dropoff_datetime'])\n",
        "trafic_data['tpep_pickup_datetime'] = pd.to_datetime(trafic_data['tpep_pickup_datetime'])\n",
        "\n",
        "delta_time = (trafic_data['tpep_dropoff_datetime']-trafic_data['tpep_pickup_datetime']).astype('timedelta64[s]')\n",
        "trafic_data.insert(3, \"trip_duration\", delta_time)"
      ],
      "execution_count": 0,
      "outputs": []
    },
    {
      "cell_type": "code",
      "metadata": {
        "id": "ZElyfKR5N9lZ",
        "colab_type": "code",
        "outputId": "4d26c74d-1036-4b44-ff5c-9254ae646630",
        "colab": {
          "base_uri": "https://localhost:8080/",
          "height": 215
        }
      },
      "source": [
        "trafic_data.head()"
      ],
      "execution_count": 7,
      "outputs": [
        {
          "output_type": "execute_result",
          "data": {
            "text/html": [
              "<div>\n",
              "<style scoped>\n",
              "    .dataframe tbody tr th:only-of-type {\n",
              "        vertical-align: middle;\n",
              "    }\n",
              "\n",
              "    .dataframe tbody tr th {\n",
              "        vertical-align: top;\n",
              "    }\n",
              "\n",
              "    .dataframe thead th {\n",
              "        text-align: right;\n",
              "    }\n",
              "</style>\n",
              "<table border=\"1\" class=\"dataframe\">\n",
              "  <thead>\n",
              "    <tr style=\"text-align: right;\">\n",
              "      <th></th>\n",
              "      <th>VendorID</th>\n",
              "      <th>tpep_pickup_datetime</th>\n",
              "      <th>tpep_dropoff_datetime</th>\n",
              "      <th>trip_duration</th>\n",
              "      <th>passenger_count</th>\n",
              "      <th>trip_distance</th>\n",
              "      <th>RatecodeID</th>\n",
              "      <th>store_and_fwd_flag</th>\n",
              "      <th>PULocationID</th>\n",
              "      <th>DOLocationID</th>\n",
              "      <th>payment_type</th>\n",
              "      <th>fare_amount</th>\n",
              "      <th>extra</th>\n",
              "      <th>mta_tax</th>\n",
              "      <th>tip_amount</th>\n",
              "      <th>tolls_amount</th>\n",
              "      <th>improvement_surcharge</th>\n",
              "      <th>total_amount</th>\n",
              "      <th>congestion_surcharge</th>\n",
              "    </tr>\n",
              "  </thead>\n",
              "  <tbody>\n",
              "    <tr>\n",
              "      <th>0</th>\n",
              "      <td>1.0</td>\n",
              "      <td>2019-12-01 00:26:58</td>\n",
              "      <td>2019-12-01 00:41:45</td>\n",
              "      <td>887.0</td>\n",
              "      <td>1</td>\n",
              "      <td>4.2</td>\n",
              "      <td>1.0</td>\n",
              "      <td>N</td>\n",
              "      <td>142</td>\n",
              "      <td>116</td>\n",
              "      <td>2.0</td>\n",
              "      <td>14.5</td>\n",
              "      <td>3.0</td>\n",
              "      <td>0.5</td>\n",
              "      <td>0.0</td>\n",
              "      <td>0.0</td>\n",
              "      <td>0.3</td>\n",
              "      <td>18.3</td>\n",
              "      <td>2.5</td>\n",
              "    </tr>\n",
              "    <tr>\n",
              "      <th>1</th>\n",
              "      <td>1.0</td>\n",
              "      <td>2019-12-01 00:12:08</td>\n",
              "      <td>2019-12-01 00:12:14</td>\n",
              "      <td>6.0</td>\n",
              "      <td>1</td>\n",
              "      <td>0.0</td>\n",
              "      <td>1.0</td>\n",
              "      <td>N</td>\n",
              "      <td>145</td>\n",
              "      <td>145</td>\n",
              "      <td>2.0</td>\n",
              "      <td>2.5</td>\n",
              "      <td>0.5</td>\n",
              "      <td>0.5</td>\n",
              "      <td>0.0</td>\n",
              "      <td>0.0</td>\n",
              "      <td>0.3</td>\n",
              "      <td>3.8</td>\n",
              "      <td>0.0</td>\n",
              "    </tr>\n",
              "    <tr>\n",
              "      <th>2</th>\n",
              "      <td>1.0</td>\n",
              "      <td>2019-12-01 00:25:53</td>\n",
              "      <td>2019-12-01 00:26:04</td>\n",
              "      <td>11.0</td>\n",
              "      <td>1</td>\n",
              "      <td>0.0</td>\n",
              "      <td>1.0</td>\n",
              "      <td>N</td>\n",
              "      <td>145</td>\n",
              "      <td>145</td>\n",
              "      <td>2.0</td>\n",
              "      <td>2.5</td>\n",
              "      <td>0.5</td>\n",
              "      <td>0.5</td>\n",
              "      <td>0.0</td>\n",
              "      <td>0.0</td>\n",
              "      <td>0.3</td>\n",
              "      <td>3.8</td>\n",
              "      <td>0.0</td>\n",
              "    </tr>\n",
              "    <tr>\n",
              "      <th>3</th>\n",
              "      <td>1.0</td>\n",
              "      <td>2019-12-01 00:12:03</td>\n",
              "      <td>2019-12-01 00:33:19</td>\n",
              "      <td>1276.0</td>\n",
              "      <td>2</td>\n",
              "      <td>9.4</td>\n",
              "      <td>1.0</td>\n",
              "      <td>N</td>\n",
              "      <td>138</td>\n",
              "      <td>25</td>\n",
              "      <td>1.0</td>\n",
              "      <td>28.5</td>\n",
              "      <td>0.5</td>\n",
              "      <td>0.5</td>\n",
              "      <td>10.0</td>\n",
              "      <td>0.0</td>\n",
              "      <td>0.3</td>\n",
              "      <td>39.8</td>\n",
              "      <td>0.0</td>\n",
              "    </tr>\n",
              "    <tr>\n",
              "      <th>4</th>\n",
              "      <td>1.0</td>\n",
              "      <td>2019-12-01 00:05:27</td>\n",
              "      <td>2019-12-01 00:16:32</td>\n",
              "      <td>665.0</td>\n",
              "      <td>2</td>\n",
              "      <td>1.6</td>\n",
              "      <td>1.0</td>\n",
              "      <td>N</td>\n",
              "      <td>161</td>\n",
              "      <td>237</td>\n",
              "      <td>2.0</td>\n",
              "      <td>9.0</td>\n",
              "      <td>3.0</td>\n",
              "      <td>0.5</td>\n",
              "      <td>0.0</td>\n",
              "      <td>0.0</td>\n",
              "      <td>0.3</td>\n",
              "      <td>12.8</td>\n",
              "      <td>2.5</td>\n",
              "    </tr>\n",
              "  </tbody>\n",
              "</table>\n",
              "</div>"
            ],
            "text/plain": [
              "   VendorID tpep_pickup_datetime  ... total_amount  congestion_surcharge\n",
              "0       1.0  2019-12-01 00:26:58  ...         18.3                   2.5\n",
              "1       1.0  2019-12-01 00:12:08  ...          3.8                   0.0\n",
              "2       1.0  2019-12-01 00:25:53  ...          3.8                   0.0\n",
              "3       1.0  2019-12-01 00:12:03  ...         39.8                   0.0\n",
              "4       1.0  2019-12-01 00:05:27  ...         12.8                   2.5\n",
              "\n",
              "[5 rows x 19 columns]"
            ]
          },
          "metadata": {
            "tags": []
          },
          "execution_count": 7
        }
      ]
    },
    {
      "cell_type": "code",
      "metadata": {
        "id": "nFt9MtNe93gx",
        "colab_type": "code",
        "outputId": "1065ef35-3e74-42d2-dce8-3178bd85d04f",
        "colab": {
          "base_uri": "https://localhost:8080/",
          "height": 34
        }
      },
      "source": [
        "mask = ((trafic_data.trip_duration < 60) |\n",
        "        (trafic_data.trip_duration > 3600 * 2))\n",
        "print('Anomalias en la duración del viaje, %: {:.2f}'.format(trafic_data[mask].shape[0] / trafic_data.shape[0] * 100))"
      ],
      "execution_count": 8,
      "outputs": [
        {
          "output_type": "stream",
          "text": [
            "Anomalias en la duración del viaje, %: 1.34\n"
          ],
          "name": "stdout"
        }
      ]
    },
    {
      "cell_type": "code",
      "metadata": {
        "id": "8dNHKqvzP02A",
        "colab_type": "code",
        "outputId": "8851ff49-38f8-4b20-85d3-599770572740",
        "colab": {
          "base_uri": "https://localhost:8080/",
          "height": 134
        }
      },
      "source": [
        "data = trafic_data[~mask]\n",
        "data.trip_duration = data.trip_duration.astype(np.uint16)\n",
        "print('Duración del viaje en segundos: {} to {}'.format(data.trip_duration.min(), data.trip_duration.max()))"
      ],
      "execution_count": 9,
      "outputs": [
        {
          "output_type": "stream",
          "text": [
            "Duración del viaje en segundos: 60 to 7200\n"
          ],
          "name": "stdout"
        },
        {
          "output_type": "stream",
          "text": [
            "/usr/local/lib/python3.6/dist-packages/pandas/core/generic.py:5303: SettingWithCopyWarning: \n",
            "A value is trying to be set on a copy of a slice from a DataFrame.\n",
            "Try using .loc[row_indexer,col_indexer] = value instead\n",
            "\n",
            "See the caveats in the documentation: https://pandas.pydata.org/pandas-docs/stable/user_guide/indexing.html#returning-a-view-versus-a-copy\n",
            "  self[name] = value\n"
          ],
          "name": "stderr"
        }
      ]
    },
    {
      "cell_type": "code",
      "metadata": {
        "id": "elBE1VsuRMPT",
        "colab_type": "code",
        "outputId": "321f3bbf-81e5-48fe-88c6-0861a7f32649",
        "colab": {
          "base_uri": "https://localhost:8080/",
          "height": 252
        }
      },
      "source": [
        "data['passenger_count'] = data['passenger_count'].fillna(0)\n",
        "print('Viajes vacios: {}'.format(data[data.passenger_count == 0].shape[0]))\n",
        "data['passenger_count'] = data['passenger_count'].astype(np.uint16)\n",
        "data = data[data.passenger_count > 0]\n",
        "print('Viajes vacios: {}'.format(data[data.passenger_count == 0].shape[0]))"
      ],
      "execution_count": 10,
      "outputs": [
        {
          "output_type": "stream",
          "text": [
            "/usr/local/lib/python3.6/dist-packages/ipykernel_launcher.py:1: SettingWithCopyWarning: \n",
            "A value is trying to be set on a copy of a slice from a DataFrame.\n",
            "Try using .loc[row_indexer,col_indexer] = value instead\n",
            "\n",
            "See the caveats in the documentation: https://pandas.pydata.org/pandas-docs/stable/user_guide/indexing.html#returning-a-view-versus-a-copy\n",
            "  \"\"\"Entry point for launching an IPython kernel.\n"
          ],
          "name": "stderr"
        },
        {
          "output_type": "stream",
          "text": [
            "Viajes vacios: 50790\n"
          ],
          "name": "stdout"
        },
        {
          "output_type": "stream",
          "text": [
            "/usr/local/lib/python3.6/dist-packages/ipykernel_launcher.py:3: SettingWithCopyWarning: \n",
            "A value is trying to be set on a copy of a slice from a DataFrame.\n",
            "Try using .loc[row_indexer,col_indexer] = value instead\n",
            "\n",
            "See the caveats in the documentation: https://pandas.pydata.org/pandas-docs/stable/user_guide/indexing.html#returning-a-view-versus-a-copy\n",
            "  This is separate from the ipykernel package so we can avoid doing imports until\n"
          ],
          "name": "stderr"
        },
        {
          "output_type": "stream",
          "text": [
            "Viajes vacios: 0\n"
          ],
          "name": "stdout"
        }
      ]
    },
    {
      "cell_type": "code",
      "metadata": {
        "id": "G3CR_FJNVoC3",
        "colab_type": "code",
        "outputId": "85f749c3-fbaa-4f74-84b8-b3b4f2d2d6b9",
        "colab": {
          "base_uri": "https://localhost:8080/",
          "height": 215
        }
      },
      "source": [
        "data.store_and_fwd_flag = data.store_and_fwd_flag.astype('category')\n",
        "data.head()"
      ],
      "execution_count": 11,
      "outputs": [
        {
          "output_type": "execute_result",
          "data": {
            "text/html": [
              "<div>\n",
              "<style scoped>\n",
              "    .dataframe tbody tr th:only-of-type {\n",
              "        vertical-align: middle;\n",
              "    }\n",
              "\n",
              "    .dataframe tbody tr th {\n",
              "        vertical-align: top;\n",
              "    }\n",
              "\n",
              "    .dataframe thead th {\n",
              "        text-align: right;\n",
              "    }\n",
              "</style>\n",
              "<table border=\"1\" class=\"dataframe\">\n",
              "  <thead>\n",
              "    <tr style=\"text-align: right;\">\n",
              "      <th></th>\n",
              "      <th>VendorID</th>\n",
              "      <th>tpep_pickup_datetime</th>\n",
              "      <th>tpep_dropoff_datetime</th>\n",
              "      <th>trip_duration</th>\n",
              "      <th>passenger_count</th>\n",
              "      <th>trip_distance</th>\n",
              "      <th>RatecodeID</th>\n",
              "      <th>store_and_fwd_flag</th>\n",
              "      <th>PULocationID</th>\n",
              "      <th>DOLocationID</th>\n",
              "      <th>payment_type</th>\n",
              "      <th>fare_amount</th>\n",
              "      <th>extra</th>\n",
              "      <th>mta_tax</th>\n",
              "      <th>tip_amount</th>\n",
              "      <th>tolls_amount</th>\n",
              "      <th>improvement_surcharge</th>\n",
              "      <th>total_amount</th>\n",
              "      <th>congestion_surcharge</th>\n",
              "    </tr>\n",
              "  </thead>\n",
              "  <tbody>\n",
              "    <tr>\n",
              "      <th>0</th>\n",
              "      <td>1.0</td>\n",
              "      <td>2019-12-01 00:26:58</td>\n",
              "      <td>2019-12-01 00:41:45</td>\n",
              "      <td>887</td>\n",
              "      <td>1</td>\n",
              "      <td>4.2</td>\n",
              "      <td>1.0</td>\n",
              "      <td>N</td>\n",
              "      <td>142</td>\n",
              "      <td>116</td>\n",
              "      <td>2.0</td>\n",
              "      <td>14.5</td>\n",
              "      <td>3.0</td>\n",
              "      <td>0.5</td>\n",
              "      <td>0.00</td>\n",
              "      <td>0.0</td>\n",
              "      <td>0.3</td>\n",
              "      <td>18.30</td>\n",
              "      <td>2.5</td>\n",
              "    </tr>\n",
              "    <tr>\n",
              "      <th>3</th>\n",
              "      <td>1.0</td>\n",
              "      <td>2019-12-01 00:12:03</td>\n",
              "      <td>2019-12-01 00:33:19</td>\n",
              "      <td>1276</td>\n",
              "      <td>2</td>\n",
              "      <td>9.4</td>\n",
              "      <td>1.0</td>\n",
              "      <td>N</td>\n",
              "      <td>138</td>\n",
              "      <td>25</td>\n",
              "      <td>1.0</td>\n",
              "      <td>28.5</td>\n",
              "      <td>0.5</td>\n",
              "      <td>0.5</td>\n",
              "      <td>10.00</td>\n",
              "      <td>0.0</td>\n",
              "      <td>0.3</td>\n",
              "      <td>39.80</td>\n",
              "      <td>0.0</td>\n",
              "    </tr>\n",
              "    <tr>\n",
              "      <th>4</th>\n",
              "      <td>1.0</td>\n",
              "      <td>2019-12-01 00:05:27</td>\n",
              "      <td>2019-12-01 00:16:32</td>\n",
              "      <td>665</td>\n",
              "      <td>2</td>\n",
              "      <td>1.6</td>\n",
              "      <td>1.0</td>\n",
              "      <td>N</td>\n",
              "      <td>161</td>\n",
              "      <td>237</td>\n",
              "      <td>2.0</td>\n",
              "      <td>9.0</td>\n",
              "      <td>3.0</td>\n",
              "      <td>0.5</td>\n",
              "      <td>0.00</td>\n",
              "      <td>0.0</td>\n",
              "      <td>0.3</td>\n",
              "      <td>12.80</td>\n",
              "      <td>2.5</td>\n",
              "    </tr>\n",
              "    <tr>\n",
              "      <th>5</th>\n",
              "      <td>1.0</td>\n",
              "      <td>2019-12-01 00:58:51</td>\n",
              "      <td>2019-12-01 01:08:37</td>\n",
              "      <td>586</td>\n",
              "      <td>2</td>\n",
              "      <td>1.0</td>\n",
              "      <td>1.0</td>\n",
              "      <td>N</td>\n",
              "      <td>161</td>\n",
              "      <td>230</td>\n",
              "      <td>2.0</td>\n",
              "      <td>6.5</td>\n",
              "      <td>3.0</td>\n",
              "      <td>0.5</td>\n",
              "      <td>0.00</td>\n",
              "      <td>0.0</td>\n",
              "      <td>0.3</td>\n",
              "      <td>10.30</td>\n",
              "      <td>2.5</td>\n",
              "    </tr>\n",
              "    <tr>\n",
              "      <th>9</th>\n",
              "      <td>1.0</td>\n",
              "      <td>2019-12-01 00:19:48</td>\n",
              "      <td>2019-12-01 00:24:18</td>\n",
              "      <td>270</td>\n",
              "      <td>1</td>\n",
              "      <td>0.9</td>\n",
              "      <td>1.0</td>\n",
              "      <td>N</td>\n",
              "      <td>148</td>\n",
              "      <td>4</td>\n",
              "      <td>1.0</td>\n",
              "      <td>5.5</td>\n",
              "      <td>3.0</td>\n",
              "      <td>0.5</td>\n",
              "      <td>1.85</td>\n",
              "      <td>0.0</td>\n",
              "      <td>0.3</td>\n",
              "      <td>11.15</td>\n",
              "      <td>2.5</td>\n",
              "    </tr>\n",
              "  </tbody>\n",
              "</table>\n",
              "</div>"
            ],
            "text/plain": [
              "   VendorID tpep_pickup_datetime  ... total_amount  congestion_surcharge\n",
              "0       1.0  2019-12-01 00:26:58  ...        18.30                   2.5\n",
              "3       1.0  2019-12-01 00:12:03  ...        39.80                   0.0\n",
              "4       1.0  2019-12-01 00:05:27  ...        12.80                   2.5\n",
              "5       1.0  2019-12-01 00:58:51  ...        10.30                   2.5\n",
              "9       1.0  2019-12-01 00:19:48  ...        11.15                   2.5\n",
              "\n",
              "[5 rows x 19 columns]"
            ]
          },
          "metadata": {
            "tags": []
          },
          "execution_count": 11
        }
      ]
    },
    {
      "cell_type": "code",
      "metadata": {
        "id": "UhCYgPLXV1kq",
        "colab_type": "code",
        "colab": {}
      },
      "source": [
        "data['mm_pickup'] = data.tpep_pickup_datetime.dt.month.astype(np.uint8)\n",
        "data['mm_dropoff'] = data.tpep_dropoff_datetime.dt.month.astype(np.uint8)"
      ],
      "execution_count": 0,
      "outputs": []
    },
    {
      "cell_type": "code",
      "metadata": {
        "id": "P88jQUfOX6sn",
        "colab_type": "code",
        "colab": {}
      },
      "source": [
        "data['dow_pickup'] = data.tpep_pickup_datetime.dt.weekday.astype(np.uint8)\n",
        "data['dow_dropoff'] = data.tpep_dropoff_datetime.dt.weekday.astype(np.uint8)\n",
        "\n",
        "data['hh_pickup'] = data.tpep_pickup_datetime.dt.hour.astype(np.uint8)\n",
        "data['hh_dropoff'] = data.tpep_dropoff_datetime.dt.hour.astype(np.uint8)"
      ],
      "execution_count": 0,
      "outputs": []
    },
    {
      "cell_type": "code",
      "metadata": {
        "id": "QcVdMigEGNlt",
        "colab_type": "code",
        "outputId": "433af517-e311-426b-a2d7-5b8c1dde7b9e",
        "colab": {
          "base_uri": "https://localhost:8080/",
          "height": 215
        }
      },
      "source": [
        "data.head()"
      ],
      "execution_count": 14,
      "outputs": [
        {
          "output_type": "execute_result",
          "data": {
            "text/html": [
              "<div>\n",
              "<style scoped>\n",
              "    .dataframe tbody tr th:only-of-type {\n",
              "        vertical-align: middle;\n",
              "    }\n",
              "\n",
              "    .dataframe tbody tr th {\n",
              "        vertical-align: top;\n",
              "    }\n",
              "\n",
              "    .dataframe thead th {\n",
              "        text-align: right;\n",
              "    }\n",
              "</style>\n",
              "<table border=\"1\" class=\"dataframe\">\n",
              "  <thead>\n",
              "    <tr style=\"text-align: right;\">\n",
              "      <th></th>\n",
              "      <th>VendorID</th>\n",
              "      <th>tpep_pickup_datetime</th>\n",
              "      <th>tpep_dropoff_datetime</th>\n",
              "      <th>trip_duration</th>\n",
              "      <th>passenger_count</th>\n",
              "      <th>trip_distance</th>\n",
              "      <th>RatecodeID</th>\n",
              "      <th>store_and_fwd_flag</th>\n",
              "      <th>PULocationID</th>\n",
              "      <th>DOLocationID</th>\n",
              "      <th>payment_type</th>\n",
              "      <th>fare_amount</th>\n",
              "      <th>extra</th>\n",
              "      <th>mta_tax</th>\n",
              "      <th>tip_amount</th>\n",
              "      <th>tolls_amount</th>\n",
              "      <th>improvement_surcharge</th>\n",
              "      <th>total_amount</th>\n",
              "      <th>congestion_surcharge</th>\n",
              "      <th>mm_pickup</th>\n",
              "      <th>mm_dropoff</th>\n",
              "      <th>dow_pickup</th>\n",
              "      <th>dow_dropoff</th>\n",
              "      <th>hh_pickup</th>\n",
              "      <th>hh_dropoff</th>\n",
              "    </tr>\n",
              "  </thead>\n",
              "  <tbody>\n",
              "    <tr>\n",
              "      <th>0</th>\n",
              "      <td>1.0</td>\n",
              "      <td>2019-12-01 00:26:58</td>\n",
              "      <td>2019-12-01 00:41:45</td>\n",
              "      <td>887</td>\n",
              "      <td>1</td>\n",
              "      <td>4.2</td>\n",
              "      <td>1.0</td>\n",
              "      <td>N</td>\n",
              "      <td>142</td>\n",
              "      <td>116</td>\n",
              "      <td>2.0</td>\n",
              "      <td>14.5</td>\n",
              "      <td>3.0</td>\n",
              "      <td>0.5</td>\n",
              "      <td>0.00</td>\n",
              "      <td>0.0</td>\n",
              "      <td>0.3</td>\n",
              "      <td>18.30</td>\n",
              "      <td>2.5</td>\n",
              "      <td>12</td>\n",
              "      <td>12</td>\n",
              "      <td>6</td>\n",
              "      <td>6</td>\n",
              "      <td>0</td>\n",
              "      <td>0</td>\n",
              "    </tr>\n",
              "    <tr>\n",
              "      <th>3</th>\n",
              "      <td>1.0</td>\n",
              "      <td>2019-12-01 00:12:03</td>\n",
              "      <td>2019-12-01 00:33:19</td>\n",
              "      <td>1276</td>\n",
              "      <td>2</td>\n",
              "      <td>9.4</td>\n",
              "      <td>1.0</td>\n",
              "      <td>N</td>\n",
              "      <td>138</td>\n",
              "      <td>25</td>\n",
              "      <td>1.0</td>\n",
              "      <td>28.5</td>\n",
              "      <td>0.5</td>\n",
              "      <td>0.5</td>\n",
              "      <td>10.00</td>\n",
              "      <td>0.0</td>\n",
              "      <td>0.3</td>\n",
              "      <td>39.80</td>\n",
              "      <td>0.0</td>\n",
              "      <td>12</td>\n",
              "      <td>12</td>\n",
              "      <td>6</td>\n",
              "      <td>6</td>\n",
              "      <td>0</td>\n",
              "      <td>0</td>\n",
              "    </tr>\n",
              "    <tr>\n",
              "      <th>4</th>\n",
              "      <td>1.0</td>\n",
              "      <td>2019-12-01 00:05:27</td>\n",
              "      <td>2019-12-01 00:16:32</td>\n",
              "      <td>665</td>\n",
              "      <td>2</td>\n",
              "      <td>1.6</td>\n",
              "      <td>1.0</td>\n",
              "      <td>N</td>\n",
              "      <td>161</td>\n",
              "      <td>237</td>\n",
              "      <td>2.0</td>\n",
              "      <td>9.0</td>\n",
              "      <td>3.0</td>\n",
              "      <td>0.5</td>\n",
              "      <td>0.00</td>\n",
              "      <td>0.0</td>\n",
              "      <td>0.3</td>\n",
              "      <td>12.80</td>\n",
              "      <td>2.5</td>\n",
              "      <td>12</td>\n",
              "      <td>12</td>\n",
              "      <td>6</td>\n",
              "      <td>6</td>\n",
              "      <td>0</td>\n",
              "      <td>0</td>\n",
              "    </tr>\n",
              "    <tr>\n",
              "      <th>5</th>\n",
              "      <td>1.0</td>\n",
              "      <td>2019-12-01 00:58:51</td>\n",
              "      <td>2019-12-01 01:08:37</td>\n",
              "      <td>586</td>\n",
              "      <td>2</td>\n",
              "      <td>1.0</td>\n",
              "      <td>1.0</td>\n",
              "      <td>N</td>\n",
              "      <td>161</td>\n",
              "      <td>230</td>\n",
              "      <td>2.0</td>\n",
              "      <td>6.5</td>\n",
              "      <td>3.0</td>\n",
              "      <td>0.5</td>\n",
              "      <td>0.00</td>\n",
              "      <td>0.0</td>\n",
              "      <td>0.3</td>\n",
              "      <td>10.30</td>\n",
              "      <td>2.5</td>\n",
              "      <td>12</td>\n",
              "      <td>12</td>\n",
              "      <td>6</td>\n",
              "      <td>6</td>\n",
              "      <td>0</td>\n",
              "      <td>1</td>\n",
              "    </tr>\n",
              "    <tr>\n",
              "      <th>9</th>\n",
              "      <td>1.0</td>\n",
              "      <td>2019-12-01 00:19:48</td>\n",
              "      <td>2019-12-01 00:24:18</td>\n",
              "      <td>270</td>\n",
              "      <td>1</td>\n",
              "      <td>0.9</td>\n",
              "      <td>1.0</td>\n",
              "      <td>N</td>\n",
              "      <td>148</td>\n",
              "      <td>4</td>\n",
              "      <td>1.0</td>\n",
              "      <td>5.5</td>\n",
              "      <td>3.0</td>\n",
              "      <td>0.5</td>\n",
              "      <td>1.85</td>\n",
              "      <td>0.0</td>\n",
              "      <td>0.3</td>\n",
              "      <td>11.15</td>\n",
              "      <td>2.5</td>\n",
              "      <td>12</td>\n",
              "      <td>12</td>\n",
              "      <td>6</td>\n",
              "      <td>6</td>\n",
              "      <td>0</td>\n",
              "      <td>0</td>\n",
              "    </tr>\n",
              "  </tbody>\n",
              "</table>\n",
              "</div>"
            ],
            "text/plain": [
              "   VendorID tpep_pickup_datetime  ... hh_pickup  hh_dropoff\n",
              "0       1.0  2019-12-01 00:26:58  ...         0           0\n",
              "3       1.0  2019-12-01 00:12:03  ...         0           0\n",
              "4       1.0  2019-12-01 00:05:27  ...         0           0\n",
              "5       1.0  2019-12-01 00:58:51  ...         0           1\n",
              "9       1.0  2019-12-01 00:19:48  ...         0           0\n",
              "\n",
              "[5 rows x 25 columns]"
            ]
          },
          "metadata": {
            "tags": []
          },
          "execution_count": 14
        }
      ]
    },
    {
      "cell_type": "code",
      "metadata": {
        "id": "km3Z2EDMUmi0",
        "colab_type": "code",
        "outputId": "034c10f8-ad57-4432-8459-84341cad4a16",
        "colab": {
          "base_uri": "https://localhost:8080/",
          "height": 204
        }
      },
      "source": [
        "plt.figure(figsize=(12,2))\n",
        "\n",
        "data_a = data.groupby('hh_pickup').aggregate('count').reset_index()\n",
        "sns.barplot(x='hh_pickup', y='hh_dropoff', data=data_a)\n",
        "\n",
        "plt.title('Pick-ups Hour Distribution')\n",
        "plt.xlabel('Hour of Day, 0-23')\n",
        "plt.ylabel('No of Trips made')"
      ],
      "execution_count": 15,
      "outputs": [
        {
          "output_type": "execute_result",
          "data": {
            "text/plain": [
              "Text(0, 0.5, 'No of Trips made')"
            ]
          },
          "metadata": {
            "tags": []
          },
          "execution_count": 15
        },
        {
          "output_type": "display_data",
          "data": {
            "image/png": "[encoded data removed]",
            "text/plain": [
              "<Figure size 864x144 with 1 Axes>"
            ]
          },
          "metadata": {
            "tags": [],
            "needs_background": "light"
          }
        }
      ]
    },
    {
      "cell_type": "code",
      "metadata": {
        "id": "FSZ9xziqRC6N",
        "colab_type": "code",
        "outputId": "154625a0-9919-4c51-8e00-e1c35a454dbe",
        "colab": {
          "base_uri": "https://localhost:8080/",
          "height": 204
        }
      },
      "source": [
        "dow_names = ['Monday', 'Tuesday', 'Wednesday', 'Thursday', 'Friday', 'Saturday', 'Sunday'] \n",
        " \n",
        "plt.figure(figsize=(12,2))\n",
        "\n",
        "data_a = data.groupby('dow_pickup').agg('count').reset_index()\n",
        "sns.barplot(x='dow_pickup', y='dow_dropoff', data=data_a)\n",
        "\n",
        "plt.title('Pick-ups Weekday Distribution')\n",
        "plt.xlabel('Trip Duration, minutes')\n",
        "plt.xticks(range(0,7), dow_names, rotation='horizontal')\n",
        "plt.ylabel('No of Trips made')\n"
      ],
      "execution_count": 16,
      "outputs": [
        {
          "output_type": "execute_result",
          "data": {
            "text/plain": [
              "Text(0, 0.5, 'No of Trips made')"
            ]
          },
          "metadata": {
            "tags": []
          },
          "execution_count": 16
        },
        {
          "output_type": "display_data",
          "data": {
            "image/png": "[encoded data removed]",
            "text/plain": [
              "<Figure size 864x144 with 1 Axes>"
            ]
          },
          "metadata": {
            "tags": [],
            "needs_background": "light"
          }
        }
      ]
    },
    {
      "cell_type": "code",
      "metadata": {
        "id": "qp7tuxecGSfd",
        "colab_type": "code",
        "outputId": "02f7aed7-d833-4b76-b72f-fbb4567faae0",
        "colab": {
          "base_uri": "https://localhost:8080/",
          "height": 534
        }
      },
      "source": [
        "\n",
        "\n",
        "figure.Figure(figsize=(12,2))\n",
        "sns.heatmap(data=pd.crosstab(data.dow_pickup, data.hh_pickup, values=data.VendorID, aggfunc='count', normalize='index'))\n",
        "plt.title(\"Mapa de calor recogida, Dia-semana vs. Hora dia\")\n",
        "plt.ylabel('Dia-semana')\n",
        "plt.xlabel('Hora del dia, 0-23')\n",
        "plt.yticks(range(0,7), dow_names[::-1], rotation='horizontal')"
      ],
      "execution_count": 17,
      "outputs": [
        {
          "output_type": "execute_result",
          "data": {
            "text/plain": [
              "([<matplotlib.axis.YTick at 0x7f099b7c29e8>,\n",
              "  <matplotlib.axis.YTick at 0x7f099b7c23c8>,\n",
              "  <matplotlib.axis.YTick at 0x7f098e815e80>,\n",
              "  <matplotlib.axis.YTick at 0x7f0998204358>,\n",
              "  <matplotlib.axis.YTick at 0x7f09982047b8>,\n",
              "  <matplotlib.axis.YTick at 0x7f0998204c50>,\n",
              "  <matplotlib.axis.YTick at 0x7f0998202160>],\n",
              " [Text(0, 0.5, 'Sunday'),\n",
              "  Text(0, 1.5, 'Saturday'),\n",
              "  Text(0, 2.5, 'Friday'),\n",
              "  Text(0, 3.5, 'Thursday'),\n",
              "  Text(0, 4.5, 'Wednesday'),\n",
              "  Text(0, 5.5, 'Tuesday'),\n",
              "  Text(0, 6.5, 'Monday')])"
            ]
          },
          "metadata": {
            "tags": []
          },
          "execution_count": 17
        },
        {
          "output_type": "display_data",
          "data": {
            "image/png": "[encoded data removed]",
            "text/plain": [
              "<Figure size 432x288 with 2 Axes>"
            ]
          },
          "metadata": {
            "tags": [],
            "needs_background": "light"
          }
        }
      ]
    },
    {
      "cell_type": "code",
      "metadata": {
        "id": "R0KKUZBbQfjd",
        "colab_type": "code",
        "outputId": "a5536b63-3e2c-4fbb-8e78-fd491e4ed9f5",
        "colab": {
          "base_uri": "https://localhost:8080/",
          "height": 812
        }
      },
      "source": [
        "plt.figure(figsize=(12,3))\n",
        "plt.title('Trip Duration Distribution')\n",
        "plt.xlabel('Trip Duration, minutes')\n",
        "plt.ylabel('No of Trips made')\n",
        "plt.hist(data.trip_duration / 60, bins=100)"
      ],
      "execution_count": 18,
      "outputs": [
        {
          "output_type": "execute_result",
          "data": {
            "text/plain": [
              "(array([1.06496e+05, 2.56800e+05, 3.91711e+05, 4.47568e+05, 4.63671e+05,\n",
              "        4.56174e+05, 4.26224e+05, 4.01997e+05, 3.63573e+05, 3.35348e+05,\n",
              "        3.05209e+05, 2.73116e+05, 2.49833e+05, 2.20978e+05, 1.99391e+05,\n",
              "        1.80589e+05, 1.59510e+05, 1.45245e+05, 1.27019e+05, 1.13317e+05,\n",
              "        1.02363e+05, 9.02490e+04, 8.14520e+04, 7.18050e+04, 6.29520e+04,\n",
              "        5.63470e+04, 4.97700e+04, 4.49990e+04, 3.93370e+04, 3.51070e+04,\n",
              "        3.12890e+04, 2.79200e+04, 2.55130e+04, 2.24910e+04, 2.02790e+04,\n",
              "        1.85220e+04, 1.71050e+04, 1.54260e+04, 1.41890e+04, 1.30080e+04,\n",
              "        1.21700e+04, 1.12680e+04, 1.01310e+04, 9.61200e+03, 8.78600e+03,\n",
              "        8.44200e+03, 7.53900e+03, 7.28600e+03, 6.61900e+03, 6.02200e+03,\n",
              "        5.81500e+03, 5.35800e+03, 5.11300e+03, 4.73400e+03, 4.31900e+03,\n",
              "        4.05900e+03, 3.70300e+03, 3.59000e+03, 3.20300e+03, 3.06700e+03,\n",
              "        2.82400e+03, 2.62100e+03, 2.55400e+03, 2.30900e+03, 2.14800e+03,\n",
              "        1.96200e+03, 1.94500e+03, 1.77700e+03, 1.58600e+03, 1.48600e+03,\n",
              "        1.35100e+03, 1.24700e+03, 1.19100e+03, 9.87000e+02, 9.85000e+02,\n",
              "        9.40000e+02, 8.10000e+02, 7.67000e+02, 7.29000e+02, 6.19000e+02,\n",
              "        5.69000e+02, 5.09000e+02, 4.65000e+02, 3.89000e+02, 3.72000e+02,\n",
              "        3.23000e+02, 3.42000e+02, 2.45000e+02, 2.41000e+02, 2.41000e+02,\n",
              "        2.19000e+02, 1.82000e+02, 1.82000e+02, 1.35000e+02, 1.46000e+02,\n",
              "        1.24000e+02, 1.02000e+02, 9.30000e+01, 9.80000e+01, 8.50000e+01]),\n",
              " array([  1.  ,   2.19,   3.38,   4.57,   5.76,   6.95,   8.14,   9.33,\n",
              "         10.52,  11.71,  12.9 ,  14.09,  15.28,  16.47,  17.66,  18.85,\n",
              "         20.04,  21.23,  22.42,  23.61,  24.8 ,  25.99,  27.18,  28.37,\n",
              "         29.56,  30.75,  31.94,  33.13,  34.32,  35.51,  36.7 ,  37.89,\n",
              "         39.08,  40.27,  41.46,  42.65,  43.84,  45.03,  46.22,  47.41,\n",
              "         48.6 ,  49.79,  50.98,  52.17,  53.36,  54.55,  55.74,  56.93,\n",
              "         58.12,  59.31,  60.5 ,  61.69,  62.88,  64.07,  65.26,  66.45,\n",
              "         67.64,  68.83,  70.02,  71.21,  72.4 ,  73.59,  74.78,  75.97,\n",
              "         77.16,  78.35,  79.54,  80.73,  81.92,  83.11,  84.3 ,  85.49,\n",
              "         86.68,  87.87,  89.06,  90.25,  91.44,  92.63,  93.82,  95.01,\n",
              "         96.2 ,  97.39,  98.58,  99.77, 100.96, 102.15, 103.34, 104.53,\n",
              "        105.72, 106.91, 108.1 , 109.29, 110.48, 111.67, 112.86, 114.05,\n",
              "        115.24, 116.43, 117.62, 118.81, 120.  ]),\n",
              " <a list of 100 Patch objects>)"
            ]
          },
          "metadata": {
            "tags": []
          },
          "execution_count": 18
        },
        {
          "output_type": "display_data",
          "data": {
            "image/png": "[encoded data removed]",
            "text/plain": [
              "<Figure size 864x216 with 1 Axes>"
            ]
          },
          "metadata": {
            "tags": [],
            "needs_background": "light"
          }
        }
      ]
    },
    {
      "cell_type": "code",
      "metadata": {
        "id": "_jb7o-S3Qz_B",
        "colab_type": "code",
        "outputId": "34983a33-3fd0-4606-f431-6e1d14b3bed8",
        "colab": {
          "base_uri": "https://localhost:8080/",
          "height": 422
        }
      },
      "source": [
        "plt.figure(figsize=(12,2))\n",
        "sns.heatmap(data=pd.crosstab(data.dow_pickup, data.hh_pickup, values=data.trip_duration/60, aggfunc='mean'))\n",
        "plt.title('Trip duration heatmap (Minutes), Day-of-Week vs. Day Hour')\n",
        "plt.ylabel('Weekday')\n",
        "plt.xlabel('Day Hour, 0-23')\n",
        "plt.yticks(range(0,7), dow_names[::-1], rotation='horizontal')"
      ],
      "execution_count": 19,
      "outputs": [
        {
          "output_type": "execute_result",
          "data": {
            "text/plain": [
              "([<matplotlib.axis.YTick at 0x7f09865d0128>,\n",
              "  <matplotlib.axis.YTick at 0x7f09865dbac8>,\n",
              "  <matplotlib.axis.YTick at 0x7f0994b04630>,\n",
              "  <matplotlib.axis.YTick at 0x7f0994b04ac8>,\n",
              "  <matplotlib.axis.YTick at 0x7f0994b04f60>,\n",
              "  <matplotlib.axis.YTick at 0x7f0994b07438>,\n",
              "  <matplotlib.axis.YTick at 0x7f0994b078d0>],\n",
              " [Text(0, 0.5, 'Sunday'),\n",
              "  Text(0, 1.5, 'Saturday'),\n",
              "  Text(0, 2.5, 'Friday'),\n",
              "  Text(0, 3.5, 'Thursday'),\n",
              "  Text(0, 4.5, 'Wednesday'),\n",
              "  Text(0, 5.5, 'Tuesday'),\n",
              "  Text(0, 6.5, 'Monday')])"
            ]
          },
          "metadata": {
            "tags": []
          },
          "execution_count": 19
        },
        {
          "output_type": "display_data",
          "data": {
            "image/png": "[encoded data removed]",
            "text/plain": [
              "<Figure size 864x144 with 2 Axes>"
            ]
          },
          "metadata": {
            "tags": [],
            "needs_background": "light"
          }
        }
      ]
    },
    {
      "cell_type": "code",
      "metadata": {
        "id": "vi6Cdiildmua",
        "colab_type": "code",
        "colab": {}
      },
      "source": [
        "data.to_csv('train.csv')"
      ],
      "execution_count": 0,
      "outputs": []
    },
    {
      "cell_type": "code",
      "metadata": {
        "id": "-nNbGwCYfVM5",
        "colab_type": "code",
        "colab": {}
      },
      "source": [
        "def featureEngineer(data):\n",
        "    '''\n",
        "    Function to pre-process and engineer features of the train data\n",
        "    '''\n",
        "    # Convert character variables to numeric\n",
        "    f = lambda x: 0 if x == 'N' else 1\n",
        "    data[\"store_and_fwd_flag\"] = data[\"store_and_fwd_flag\"].apply(lambda x: f(x))\n",
        "\n",
        "    # Convert datetime strings into datetime\n",
        "    data[\"tpep_dropoff_datetime\"] = pd.to_datetime(data[\"tpep_dropoff_datetime\"], format='%Y-%m-%d %H:%M:%S')\n",
        "    data[\"tpep_pickup_datetime\"] = pd.to_datetime(data[\"tpep_pickup_datetime\"], format='%Y-%m-%d %H:%M:%S')\n",
        "\n",
        "    # Now construct other variables, like month, date, etc.\n",
        "    data[\"pickup_month\"] = data[\"tpep_pickup_datetime\"].dt.month\n",
        "    data[\"pickup_day\"] = data[\"tpep_pickup_datetime\"].dt.day\n",
        "    data[\"pickup_weekday\"] = data[\"tpep_pickup_datetime\"].dt.weekday\n",
        "    data[\"pickup_hour\"] = data[\"tpep_pickup_datetime\"].dt.hour\n",
        "    data[\"pickup_minute\"] = data[\"tpep_pickup_datetime\"].dt.minute\n",
        "\n",
        "    # Get latitude and longitude differences\n",
        "    data[\"latitude_difference\"] = data[\"dropoff_latitude\"] - data[\"pickup_latitude\"]\n",
        "    data[\"longitude_difference\"] = data[\"dropoff_longitude\"] - data[\"pickup_longitude\"]\n",
        "\n",
        "    # Convert duration to minutes for easier interpretation\n",
        "    data[\"trip_duration\"] = data[\"trip_duration\"].apply(lambda x: round(x/60))\n",
        "\n",
        "\n",
        "    # Convert trip distance from longitude and latitude differences to Manhattan distance.\n",
        "    data[\"trip_distance\"] = 0.621371 * 6371 * (abs(2 * np.arctan2(np.sqrt(\n",
        "        np.square(np.sin((abs(data[\"latitude_difference\"]) * np.pi / 180) / 2))),\n",
        "        np.sqrt(1 - (np.square(np.sin((abs(data[\"latitude_difference\"]) * np.pi / 180) / 2)))))) + \n",
        "        abs(2 * np.arctan2(np.sqrt(np.square(np.sin((abs(data[\"longitude_difference\"]) * np.pi / 180) / 2))),\n",
        "                           np.sqrt(1 - (np.square(np.sin((abs(data[\"longitude_difference\"]) * np.pi / 180) / 2)))))))"
      ],
      "execution_count": 0,
      "outputs": []
    },
    {
      "cell_type": "code",
      "metadata": {
        "id": "sw_OTOjvfbn1",
        "colab_type": "code",
        "colab": {}
      },
      "source": [
        "def rmsle(y_true, y_pred):\n",
        "    '''\n",
        "    Function to define evaluation metric\n",
        "    >> Input: y_true -- ground truth labels, y_pred -- predicted labels\n",
        "    >> Output: evaluation metric\n",
        "    '''\n",
        "    assert len(y_true) == len(y_pred)\n",
        "    return np.square(np.log(y_pred + 1) - np.log(y_true + 1)).mean() ** 0.5"
      ],
      "execution_count": 0,
      "outputs": []
    },
    {
      "cell_type": "code",
      "metadata": {
        "id": "qJiuSzzHfhH6",
        "colab_type": "code",
        "colab": {}
      },
      "source": [
        "def XGBmodel(X, y):\n",
        "    '''\n",
        "    Function to train a XGBoost machine learning model on the data\n",
        "    >> Input: X -- features, y -- label\n",
        "    >> Output:\n",
        "    '''\n",
        "    # Split the train data into training, test, and valdiation sets\n",
        "    X_train, X_test, y_train, y_test = train_test_split(X, y, test_size=0.2, random_state=2019)\n",
        "    X_train, X_val, y_train, y_val = train_test_split(X_train, y_train, test_size=0.2, random_state=2019)\n",
        "\n",
        "    # XGBoost parameters\n",
        "    params = {\n",
        "        'booster':            'gbtree',\n",
        "        'objective':          'reg:linear',\n",
        "        'learning_rate':      0.05,\n",
        "        'max_depth':          14,\n",
        "        'subsample':          0.9,\n",
        "        'colsample_bytree':   0.7,\n",
        "        'colsample_bylevel':  0.7,\n",
        "        'silent':             1,\n",
        "        'feval':              'rmsle'\n",
        "    }\n",
        "\n",
        "    # Define train and validation sets\n",
        "    dtrain = xgb.DMatrix(X_train, np.log(y_train+1))\n",
        "    dval = xgb.DMatrix(X_val, np.log(y_val+1))\n",
        "\n",
        "    # this is for tracking the error\n",
        "    watchlist = [(dval, 'eval'), (dtrain, 'train')]\n",
        "\n",
        "    # Number of training rounds\n",
        "    nrounds = 1000\n",
        "\n",
        "    # Train model\n",
        "    gbm = xgb.train(params, dtrain, num_boost_round = nrounds, evals = watchlist, verbose_eval = True)\n",
        "\n",
        "    # Test predictions\n",
        "    y_pred = np.exp(gbm.predict(xgb.DMatrix(X_test))) - 1\n",
        "\n",
        "    # Use mean absolute error to get a basic estimate of the error\n",
        "    mae = (abs(y_pred - y_test)).mean()\n",
        "\n",
        "    # Take a look at feature importance\n",
        "    feature_scores = gbm.get_fscore()\n",
        "    # Feature scaling\n",
        "    summ = 0\n",
        "    for key in feature_scores:\n",
        "        summ = summ + feature_scores[key]\n",
        "    for key in feature_scores:\n",
        "        feature_scores[key] = feature_scores[key] / summ\n",
        "\n",
        "    print('Mean Absolute Error:', mae)\n",
        "    print('Feature Importance:', feature_scores)\n",
        "\n",
        "    return gbm"
      ],
      "execution_count": 0,
      "outputs": []
    },
    {
      "cell_type": "code",
      "metadata": {
        "id": "4Ln1PKFwfh_7",
        "colab_type": "code",
        "colab": {
          "base_uri": "https://localhost:8080/",
          "height": 690
        },
        "outputId": "a3a42782-e8e2-47f4-daaf-31cf25dd266e"
      },
      "source": [
        "taxiDB = pd.read_csv(\"train.csv\")\n",
        "featureEngineer(taxiDB)"
      ],
      "execution_count": 32,
      "outputs": [
        {
          "output_type": "error",
          "ename": "KeyError",
          "evalue": "ignored",
          "traceback": [
            "\u001b[0;31m---------------------------------------------------------------------------\u001b[0m",
            "\u001b[0;31mKeyError\u001b[0m                                  Traceback (most recent call last)",
            "\u001b[0;32m/usr/local/lib/python3.6/dist-packages/pandas/core/indexes/base.py\u001b[0m in \u001b[0;36mget_loc\u001b[0;34m(self, key, method, tolerance)\u001b[0m\n\u001b[1;32m   2645\u001b[0m             \u001b[0;32mtry\u001b[0m\u001b[0;34m:\u001b[0m\u001b[0;34m\u001b[0m\u001b[0;34m\u001b[0m\u001b[0m\n\u001b[0;32m-> 2646\u001b[0;31m                 \u001b[0;32mreturn\u001b[0m \u001b[0mself\u001b[0m\u001b[0;34m.\u001b[0m\u001b[0m_engine\u001b[0m\u001b[0;34m.\u001b[0m\u001b[0mget_loc\u001b[0m\u001b[0;34m(\u001b[0m\u001b[0mkey\u001b[0m\u001b[0;34m)\u001b[0m\u001b[0;34m\u001b[0m\u001b[0;34m\u001b[0m\u001b[0m\n\u001b[0m\u001b[1;32m   2647\u001b[0m             \u001b[0;32mexcept\u001b[0m \u001b[0mKeyError\u001b[0m\u001b[0;34m:\u001b[0m\u001b[0;34m\u001b[0m\u001b[0;34m\u001b[0m\u001b[0m\n",
            "\u001b[0;32mpandas/_libs/index.pyx\u001b[0m in \u001b[0;36mpandas._libs.index.IndexEngine.get_loc\u001b[0;34m()\u001b[0m\n",
            "\u001b[0;32mpandas/_libs/index.pyx\u001b[0m in \u001b[0;36mpandas._libs.index.IndexEngine.get_loc\u001b[0;34m()\u001b[0m\n",
            "\u001b[0;32mpandas/_libs/hashtable_class_helper.pxi\u001b[0m in \u001b[0;36mpandas._libs.hashtable.PyObjectHashTable.get_item\u001b[0;34m()\u001b[0m\n",
            "\u001b[0;32mpandas/_libs/hashtable_class_helper.pxi\u001b[0m in \u001b[0;36mpandas._libs.hashtable.PyObjectHashTable.get_item\u001b[0;34m()\u001b[0m\n",
            "\u001b[0;31mKeyError\u001b[0m: 'dropoff_latitude'",
            "\nDuring handling of the above exception, another exception occurred:\n",
            "\u001b[0;31mKeyError\u001b[0m                                  Traceback (most recent call last)",
            "\u001b[0;32m<ipython-input-32-c19cbe3544bf>\u001b[0m in \u001b[0;36m<module>\u001b[0;34m()\u001b[0m\n\u001b[1;32m      1\u001b[0m \u001b[0mtaxiDB\u001b[0m \u001b[0;34m=\u001b[0m \u001b[0mpd\u001b[0m\u001b[0;34m.\u001b[0m\u001b[0mread_csv\u001b[0m\u001b[0;34m(\u001b[0m\u001b[0;34m\"train.csv\"\u001b[0m\u001b[0;34m)\u001b[0m\u001b[0;34m\u001b[0m\u001b[0;34m\u001b[0m\u001b[0m\n\u001b[0;32m----> 2\u001b[0;31m \u001b[0mfeatureEngineer\u001b[0m\u001b[0;34m(\u001b[0m\u001b[0mtaxiDB\u001b[0m\u001b[0;34m)\u001b[0m\u001b[0;34m\u001b[0m\u001b[0;34m\u001b[0m\u001b[0m\n\u001b[0m",
            "\u001b[0;32m<ipython-input-29-3992ded65faa>\u001b[0m in \u001b[0;36mfeatureEngineer\u001b[0;34m(data)\u001b[0m\n\u001b[1;32m     19\u001b[0m \u001b[0;34m\u001b[0m\u001b[0m\n\u001b[1;32m     20\u001b[0m     \u001b[0;31m# Get latitude and longitude differences\u001b[0m\u001b[0;34m\u001b[0m\u001b[0;34m\u001b[0m\u001b[0;34m\u001b[0m\u001b[0m\n\u001b[0;32m---> 21\u001b[0;31m     \u001b[0mdata\u001b[0m\u001b[0;34m[\u001b[0m\u001b[0;34m\"latitude_difference\"\u001b[0m\u001b[0;34m]\u001b[0m \u001b[0;34m=\u001b[0m \u001b[0mdata\u001b[0m\u001b[0;34m[\u001b[0m\u001b[0;34m\"dropoff_latitude\"\u001b[0m\u001b[0;34m]\u001b[0m \u001b[0;34m-\u001b[0m \u001b[0mdata\u001b[0m\u001b[0;34m[\u001b[0m\u001b[0;34m\"pickup_latitude\"\u001b[0m\u001b[0;34m]\u001b[0m\u001b[0;34m\u001b[0m\u001b[0;34m\u001b[0m\u001b[0m\n\u001b[0m\u001b[1;32m     22\u001b[0m     \u001b[0mdata\u001b[0m\u001b[0;34m[\u001b[0m\u001b[0;34m\"longitude_difference\"\u001b[0m\u001b[0;34m]\u001b[0m \u001b[0;34m=\u001b[0m \u001b[0mdata\u001b[0m\u001b[0;34m[\u001b[0m\u001b[0;34m\"dropoff_longitude\"\u001b[0m\u001b[0;34m]\u001b[0m \u001b[0;34m-\u001b[0m \u001b[0mdata\u001b[0m\u001b[0;34m[\u001b[0m\u001b[0;34m\"pickup_longitude\"\u001b[0m\u001b[0;34m]\u001b[0m\u001b[0;34m\u001b[0m\u001b[0;34m\u001b[0m\u001b[0m\n\u001b[1;32m     23\u001b[0m \u001b[0;34m\u001b[0m\u001b[0m\n",
            "\u001b[0;32m/usr/local/lib/python3.6/dist-packages/pandas/core/frame.py\u001b[0m in \u001b[0;36m__getitem__\u001b[0;34m(self, key)\u001b[0m\n\u001b[1;32m   2798\u001b[0m             \u001b[0;32mif\u001b[0m \u001b[0mself\u001b[0m\u001b[0;34m.\u001b[0m\u001b[0mcolumns\u001b[0m\u001b[0;34m.\u001b[0m\u001b[0mnlevels\u001b[0m \u001b[0;34m>\u001b[0m \u001b[0;36m1\u001b[0m\u001b[0;34m:\u001b[0m\u001b[0;34m\u001b[0m\u001b[0;34m\u001b[0m\u001b[0m\n\u001b[1;32m   2799\u001b[0m                 \u001b[0;32mreturn\u001b[0m \u001b[0mself\u001b[0m\u001b[0;34m.\u001b[0m\u001b[0m_getitem_multilevel\u001b[0m\u001b[0;34m(\u001b[0m\u001b[0mkey\u001b[0m\u001b[0;34m)\u001b[0m\u001b[0;34m\u001b[0m\u001b[0;34m\u001b[0m\u001b[0m\n\u001b[0;32m-> 2800\u001b[0;31m             \u001b[0mindexer\u001b[0m \u001b[0;34m=\u001b[0m \u001b[0mself\u001b[0m\u001b[0;34m.\u001b[0m\u001b[0mcolumns\u001b[0m\u001b[0;34m.\u001b[0m\u001b[0mget_loc\u001b[0m\u001b[0;34m(\u001b[0m\u001b[0mkey\u001b[0m\u001b[0;34m)\u001b[0m\u001b[0;34m\u001b[0m\u001b[0;34m\u001b[0m\u001b[0m\n\u001b[0m\u001b[1;32m   2801\u001b[0m             \u001b[0;32mif\u001b[0m \u001b[0mis_integer\u001b[0m\u001b[0;34m(\u001b[0m\u001b[0mindexer\u001b[0m\u001b[0;34m)\u001b[0m\u001b[0;34m:\u001b[0m\u001b[0;34m\u001b[0m\u001b[0;34m\u001b[0m\u001b[0m\n\u001b[1;32m   2802\u001b[0m                 \u001b[0mindexer\u001b[0m \u001b[0;34m=\u001b[0m \u001b[0;34m[\u001b[0m\u001b[0mindexer\u001b[0m\u001b[0;34m]\u001b[0m\u001b[0;34m\u001b[0m\u001b[0;34m\u001b[0m\u001b[0m\n",
            "\u001b[0;32m/usr/local/lib/python3.6/dist-packages/pandas/core/indexes/base.py\u001b[0m in \u001b[0;36mget_loc\u001b[0;34m(self, key, method, tolerance)\u001b[0m\n\u001b[1;32m   2646\u001b[0m                 \u001b[0;32mreturn\u001b[0m \u001b[0mself\u001b[0m\u001b[0;34m.\u001b[0m\u001b[0m_engine\u001b[0m\u001b[0;34m.\u001b[0m\u001b[0mget_loc\u001b[0m\u001b[0;34m(\u001b[0m\u001b[0mkey\u001b[0m\u001b[0;34m)\u001b[0m\u001b[0;34m\u001b[0m\u001b[0;34m\u001b[0m\u001b[0m\n\u001b[1;32m   2647\u001b[0m             \u001b[0;32mexcept\u001b[0m \u001b[0mKeyError\u001b[0m\u001b[0;34m:\u001b[0m\u001b[0;34m\u001b[0m\u001b[0;34m\u001b[0m\u001b[0m\n\u001b[0;32m-> 2648\u001b[0;31m                 \u001b[0;32mreturn\u001b[0m \u001b[0mself\u001b[0m\u001b[0;34m.\u001b[0m\u001b[0m_engine\u001b[0m\u001b[0;34m.\u001b[0m\u001b[0mget_loc\u001b[0m\u001b[0;34m(\u001b[0m\u001b[0mself\u001b[0m\u001b[0;34m.\u001b[0m\u001b[0m_maybe_cast_indexer\u001b[0m\u001b[0;34m(\u001b[0m\u001b[0mkey\u001b[0m\u001b[0;34m)\u001b[0m\u001b[0;34m)\u001b[0m\u001b[0;34m\u001b[0m\u001b[0;34m\u001b[0m\u001b[0m\n\u001b[0m\u001b[1;32m   2649\u001b[0m         \u001b[0mindexer\u001b[0m \u001b[0;34m=\u001b[0m \u001b[0mself\u001b[0m\u001b[0;34m.\u001b[0m\u001b[0mget_indexer\u001b[0m\u001b[0;34m(\u001b[0m\u001b[0;34m[\u001b[0m\u001b[0mkey\u001b[0m\u001b[0;34m]\u001b[0m\u001b[0;34m,\u001b[0m \u001b[0mmethod\u001b[0m\u001b[0;34m=\u001b[0m\u001b[0mmethod\u001b[0m\u001b[0;34m,\u001b[0m \u001b[0mtolerance\u001b[0m\u001b[0;34m=\u001b[0m\u001b[0mtolerance\u001b[0m\u001b[0;34m)\u001b[0m\u001b[0;34m\u001b[0m\u001b[0;34m\u001b[0m\u001b[0m\n\u001b[1;32m   2650\u001b[0m         \u001b[0;32mif\u001b[0m \u001b[0mindexer\u001b[0m\u001b[0;34m.\u001b[0m\u001b[0mndim\u001b[0m \u001b[0;34m>\u001b[0m \u001b[0;36m1\u001b[0m \u001b[0;32mor\u001b[0m \u001b[0mindexer\u001b[0m\u001b[0;34m.\u001b[0m\u001b[0msize\u001b[0m \u001b[0;34m>\u001b[0m \u001b[0;36m1\u001b[0m\u001b[0;34m:\u001b[0m\u001b[0;34m\u001b[0m\u001b[0;34m\u001b[0m\u001b[0m\n",
            "\u001b[0;32mpandas/_libs/index.pyx\u001b[0m in \u001b[0;36mpandas._libs.index.IndexEngine.get_loc\u001b[0;34m()\u001b[0m\n",
            "\u001b[0;32mpandas/_libs/index.pyx\u001b[0m in \u001b[0;36mpandas._libs.index.IndexEngine.get_loc\u001b[0;34m()\u001b[0m\n",
            "\u001b[0;32mpandas/_libs/hashtable_class_helper.pxi\u001b[0m in \u001b[0;36mpandas._libs.hashtable.PyObjectHashTable.get_item\u001b[0;34m()\u001b[0m\n",
            "\u001b[0;32mpandas/_libs/hashtable_class_helper.pxi\u001b[0m in \u001b[0;36mpandas._libs.hashtable.PyObjectHashTable.get_item\u001b[0;34m()\u001b[0m\n",
            "\u001b[0;31mKeyError\u001b[0m: 'dropoff_latitude'"
          ]
        }
      ]
    },
    {
      "cell_type": "code",
      "metadata": {
        "id": "p4HIVqmVfrsj",
        "colab_type": "code",
        "colab": {}
      },
      "source": [
        "X = taxiDB.drop([\"trip_duration\", \"id\", \"vendor_id\", \"tpep_pickup_datetime\", \"tpep_dropoff_datetime\"], axis=1)\n",
        "y = taxiDB[\"trip_duration\"]"
      ],
      "execution_count": 0,
      "outputs": []
    },
    {
      "cell_type": "code",
      "metadata": {
        "id": "z-jkzpD7fxDd",
        "colab_type": "code",
        "colab": {}
      },
      "source": [
        "model = XGBmodel(X, y)\n",
        "filename = \"xgb_model.sav\"\n",
        "pickle.dump(model, open(filename, 'wb'))"
      ],
      "execution_count": 0,
      "outputs": []
    }
  ]
}