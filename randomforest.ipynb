{
  "nbformat": 4,
  "nbformat_minor": 0,
  "metadata": {
    "colab": {
      "name": "randomforest.ipynb",
      "provenance": [],
      "toc_visible": true,
      "mount_file_id": "1YSzN8sBvUEOk5Edmj7HKdsxS-mfPLtKI",
      "authorship_tag": "ABX9TyPIrlNXP32MjcNWyit6bzU2",
      "include_colab_link": true
    },
    "kernelspec": {
      "name": "python3",
      "display_name": "Python 3"
    }
  },
  "cells": [
    {
      "cell_type": "markdown",
      "metadata": {
        "id": "view-in-github",
        "colab_type": "text"
      },
      "source": [
        "<a href=\"https://colab.research.google.com/github/Boso123/MLcourseFatiga/blob/master/randomforest.ipynb\" target=\"_parent\"><img src=\"https://colab.research.google.com/assets/colab-badge.svg\" alt=\"Open In Colab\"/></a>"
      ]
    },
    {
      "cell_type": "markdown",
      "metadata": {
        "id": "PVvukUYP3cOw",
        "colab_type": "text"
      },
      "source": [
        "# Preparación de datos\n",
        "\n",
        "Se importa todas las libreria para el analisis, carga de datos y entrenamientos\n",
        "\n"
      ]
    },
    {
      "cell_type": "code",
      "metadata": {
        "id": "pgPpEw432KxT",
        "colab_type": "code",
        "outputId": "f45fa75f-c16d-4dc9-e281-27c32c0a2507",
        "colab": {
          "base_uri": "https://localhost:8080/",
          "height": 70
        }
      },
      "source": [
        "import pandas as pd\n",
        "from sklearn.model_selection import train_test_split\n",
        "from sklearn.preprocessing import StandardScaler\n",
        "import seaborn as sns\n",
        "from matplotlib import pyplot as plt\n",
        "from matplotlib import style\n",
        "%matplotlib inline\n",
        "#Evaluations\n",
        "from sklearn.metrics import classification_report, confusion_matrix\n",
        "#Random forest\n",
        "from sklearn.ensemble import RandomForestClassifier\n",
        "# Tensorflow\n",
        "import tensorflow as tf"
      ],
      "execution_count": 0,
      "outputs": [
        {
          "output_type": "stream",
          "text": [
            "/usr/local/lib/python3.6/dist-packages/statsmodels/tools/_testing.py:19: FutureWarning: pandas.util.testing is deprecated. Use the functions in the public API at pandas.testing instead.\n",
            "  import pandas.util.testing as tm\n"
          ],
          "name": "stderr"
        }
      ]
    },
    {
      "cell_type": "markdown",
      "metadata": {
        "id": "EWLBrxiq4V6c",
        "colab_type": "text"
      },
      "source": [
        "Carga la base de datos en formato CSV y imprime las primeros cinco lineas de datos y la descripción de los datos"
      ]
    },
    {
      "cell_type": "code",
      "metadata": {
        "id": "8rVhCnIM3jOe",
        "colab_type": "code",
        "outputId": "ec1ec4a6-2716-42cb-b3f6-6d7fc6a0b37c",
        "colab": {
          "base_uri": "https://localhost:8080/",
          "height": 195
        }
      },
      "source": [
        "sleep_Data = pd.read_csv(\"/content/drive/My Drive/MicrosuenosData/data.csv\")\n",
        "sleep_Data.head()"
      ],
      "execution_count": 0,
      "outputs": [
        {
          "output_type": "execute_result",
          "data": {
            "text/html": [
              "<div>\n",
              "<style scoped>\n",
              "    .dataframe tbody tr th:only-of-type {\n",
              "        vertical-align: middle;\n",
              "    }\n",
              "\n",
              "    .dataframe tbody tr th {\n",
              "        vertical-align: top;\n",
              "    }\n",
              "\n",
              "    .dataframe thead th {\n",
              "        text-align: right;\n",
              "    }\n",
              "</style>\n",
              "<table border=\"1\" class=\"dataframe\">\n",
              "  <thead>\n",
              "    <tr style=\"text-align: right;\">\n",
              "      <th></th>\n",
              "      <th>id</th>\n",
              "      <th>image</th>\n",
              "      <th>time</th>\n",
              "      <th>initial_time</th>\n",
              "      <th>pitch</th>\n",
              "      <th>yaw</th>\n",
              "      <th>roll</th>\n",
              "      <th>pitchs</th>\n",
              "      <th>yawns</th>\n",
              "      <th>tag</th>\n",
              "    </tr>\n",
              "  </thead>\n",
              "  <tbody>\n",
              "    <tr>\n",
              "      <th>0</th>\n",
              "      <td>1</td>\n",
              "      <td>/images/image1.jpg</td>\n",
              "      <td>2020-01-22T17:22:08.135000</td>\n",
              "      <td>2020-01-22T17:22:07.443000</td>\n",
              "      <td>10.746500</td>\n",
              "      <td>-33.467357</td>\n",
              "      <td>-3.569197</td>\n",
              "      <td>0</td>\n",
              "      <td>42</td>\n",
              "      <td>untagged</td>\n",
              "    </tr>\n",
              "    <tr>\n",
              "      <th>1</th>\n",
              "      <td>2</td>\n",
              "      <td>/images/image2.jpg</td>\n",
              "      <td>2020-01-22T17:22:08.367000</td>\n",
              "      <td>2020-01-22T17:22:07.443000</td>\n",
              "      <td>12.180362</td>\n",
              "      <td>-34.306218</td>\n",
              "      <td>-4.846204</td>\n",
              "      <td>0</td>\n",
              "      <td>42</td>\n",
              "      <td>untagged</td>\n",
              "    </tr>\n",
              "    <tr>\n",
              "      <th>2</th>\n",
              "      <td>3</td>\n",
              "      <td>/images/image3.jpg</td>\n",
              "      <td>2020-01-22T17:22:08.599000</td>\n",
              "      <td>2020-01-22T17:22:07.443000</td>\n",
              "      <td>11.764933</td>\n",
              "      <td>-32.793980</td>\n",
              "      <td>-4.018201</td>\n",
              "      <td>0</td>\n",
              "      <td>42</td>\n",
              "      <td>untagged</td>\n",
              "    </tr>\n",
              "    <tr>\n",
              "      <th>3</th>\n",
              "      <td>4</td>\n",
              "      <td>/images/image4.jpg</td>\n",
              "      <td>2020-01-22T17:22:07.443000</td>\n",
              "      <td>2020-01-22T17:22:07.443000</td>\n",
              "      <td>15.753147</td>\n",
              "      <td>-29.482020</td>\n",
              "      <td>-5.783584</td>\n",
              "      <td>0</td>\n",
              "      <td>42</td>\n",
              "      <td>untagged</td>\n",
              "    </tr>\n",
              "    <tr>\n",
              "      <th>4</th>\n",
              "      <td>5</td>\n",
              "      <td>/images/image5.jpg</td>\n",
              "      <td>2020-01-22T17:22:07.672000</td>\n",
              "      <td>2020-01-22T17:22:07.443000</td>\n",
              "      <td>15.288966</td>\n",
              "      <td>-29.170070</td>\n",
              "      <td>-2.748542</td>\n",
              "      <td>0</td>\n",
              "      <td>42</td>\n",
              "      <td>untagged</td>\n",
              "    </tr>\n",
              "  </tbody>\n",
              "</table>\n",
              "</div>"
            ],
            "text/plain": [
              "   id               image                        time  ... pitchs  yawns       tag\n",
              "0   1  /images/image1.jpg  2020-01-22T17:22:08.135000  ...      0     42  untagged\n",
              "1   2  /images/image2.jpg  2020-01-22T17:22:08.367000  ...      0     42  untagged\n",
              "2   3  /images/image3.jpg  2020-01-22T17:22:08.599000  ...      0     42  untagged\n",
              "3   4  /images/image4.jpg  2020-01-22T17:22:07.443000  ...      0     42  untagged\n",
              "4   5  /images/image5.jpg  2020-01-22T17:22:07.672000  ...      0     42  untagged\n",
              "\n",
              "[5 rows x 10 columns]"
            ]
          },
          "metadata": {
            "tags": []
          },
          "execution_count": 85
        }
      ]
    },
    {
      "cell_type": "code",
      "metadata": {
        "id": "yfKPrjOS4yvT",
        "colab_type": "code",
        "outputId": "b62e6c87-5a17-45f9-f230-50664c0c0ccc",
        "colab": {
          "base_uri": "https://localhost:8080/",
          "height": 284
        }
      },
      "source": [
        "sleep_Data.describe()"
      ],
      "execution_count": 0,
      "outputs": [
        {
          "output_type": "execute_result",
          "data": {
            "text/html": [
              "<div>\n",
              "<style scoped>\n",
              "    .dataframe tbody tr th:only-of-type {\n",
              "        vertical-align: middle;\n",
              "    }\n",
              "\n",
              "    .dataframe tbody tr th {\n",
              "        vertical-align: top;\n",
              "    }\n",
              "\n",
              "    .dataframe thead th {\n",
              "        text-align: right;\n",
              "    }\n",
              "</style>\n",
              "<table border=\"1\" class=\"dataframe\">\n",
              "  <thead>\n",
              "    <tr style=\"text-align: right;\">\n",
              "      <th></th>\n",
              "      <th>id</th>\n",
              "      <th>pitch</th>\n",
              "      <th>yaw</th>\n",
              "      <th>roll</th>\n",
              "      <th>pitchs</th>\n",
              "      <th>yawns</th>\n",
              "    </tr>\n",
              "  </thead>\n",
              "  <tbody>\n",
              "    <tr>\n",
              "      <th>count</th>\n",
              "      <td>9120.000000</td>\n",
              "      <td>9120.000000</td>\n",
              "      <td>9120.000000</td>\n",
              "      <td>9120.000000</td>\n",
              "      <td>9120.0</td>\n",
              "      <td>9120.000000</td>\n",
              "    </tr>\n",
              "    <tr>\n",
              "      <th>mean</th>\n",
              "      <td>4560.500000</td>\n",
              "      <td>20.021266</td>\n",
              "      <td>-26.296021</td>\n",
              "      <td>-7.484727</td>\n",
              "      <td>0.0</td>\n",
              "      <td>12.238816</td>\n",
              "    </tr>\n",
              "    <tr>\n",
              "      <th>std</th>\n",
              "      <td>2632.861561</td>\n",
              "      <td>13.580649</td>\n",
              "      <td>23.710786</td>\n",
              "      <td>12.668202</td>\n",
              "      <td>0.0</td>\n",
              "      <td>14.363362</td>\n",
              "    </tr>\n",
              "    <tr>\n",
              "      <th>min</th>\n",
              "      <td>1.000000</td>\n",
              "      <td>-25.995724</td>\n",
              "      <td>-67.263201</td>\n",
              "      <td>-178.874990</td>\n",
              "      <td>0.0</td>\n",
              "      <td>0.000000</td>\n",
              "    </tr>\n",
              "    <tr>\n",
              "      <th>25%</th>\n",
              "      <td>2280.750000</td>\n",
              "      <td>12.712986</td>\n",
              "      <td>-44.984264</td>\n",
              "      <td>-14.023109</td>\n",
              "      <td>0.0</td>\n",
              "      <td>2.000000</td>\n",
              "    </tr>\n",
              "    <tr>\n",
              "      <th>50%</th>\n",
              "      <td>4560.500000</td>\n",
              "      <td>19.684845</td>\n",
              "      <td>-31.091948</td>\n",
              "      <td>-8.519872</td>\n",
              "      <td>0.0</td>\n",
              "      <td>8.000000</td>\n",
              "    </tr>\n",
              "    <tr>\n",
              "      <th>75%</th>\n",
              "      <td>6840.250000</td>\n",
              "      <td>26.443946</td>\n",
              "      <td>-14.156473</td>\n",
              "      <td>-2.655539</td>\n",
              "      <td>0.0</td>\n",
              "      <td>18.000000</td>\n",
              "    </tr>\n",
              "    <tr>\n",
              "      <th>max</th>\n",
              "      <td>9120.000000</td>\n",
              "      <td>94.058592</td>\n",
              "      <td>61.573714</td>\n",
              "      <td>179.925438</td>\n",
              "      <td>0.0</td>\n",
              "      <td>98.000000</td>\n",
              "    </tr>\n",
              "  </tbody>\n",
              "</table>\n",
              "</div>"
            ],
            "text/plain": [
              "                id        pitch          yaw         roll  pitchs        yawns\n",
              "count  9120.000000  9120.000000  9120.000000  9120.000000  9120.0  9120.000000\n",
              "mean   4560.500000    20.021266   -26.296021    -7.484727     0.0    12.238816\n",
              "std    2632.861561    13.580649    23.710786    12.668202     0.0    14.363362\n",
              "min       1.000000   -25.995724   -67.263201  -178.874990     0.0     0.000000\n",
              "25%    2280.750000    12.712986   -44.984264   -14.023109     0.0     2.000000\n",
              "50%    4560.500000    19.684845   -31.091948    -8.519872     0.0     8.000000\n",
              "75%    6840.250000    26.443946   -14.156473    -2.655539     0.0    18.000000\n",
              "max    9120.000000    94.058592    61.573714   179.925438     0.0    98.000000"
            ]
          },
          "metadata": {
            "tags": []
          },
          "execution_count": 86
        }
      ]
    },
    {
      "cell_type": "markdown",
      "metadata": {
        "id": "x92Hkcxo5FFS",
        "colab_type": "text"
      },
      "source": [
        "Dado a que los pitchs se han capturado de forma incorrecta se eliminara esta variable para el entrenamiento y se designa la columna Id como el identificador"
      ]
    },
    {
      "cell_type": "code",
      "metadata": {
        "id": "hd-XRzle5N3S",
        "colab_type": "code",
        "outputId": "92ecb1d1-2851-46e9-edf0-64134ff5551a",
        "colab": {
          "base_uri": "https://localhost:8080/",
          "height": 225
        }
      },
      "source": [
        "to_drop = ['pitchs']\n",
        "\n",
        "sleep_Data.drop(to_drop, inplace=True, axis=1)\n",
        "\n",
        "sleep_Data['id'].is_unique\n",
        "sleep_Data = sleep_Data.set_index('id')\n",
        "\n",
        "sleep_Data.head()"
      ],
      "execution_count": 0,
      "outputs": [
        {
          "output_type": "execute_result",
          "data": {
            "text/html": [
              "<div>\n",
              "<style scoped>\n",
              "    .dataframe tbody tr th:only-of-type {\n",
              "        vertical-align: middle;\n",
              "    }\n",
              "\n",
              "    .dataframe tbody tr th {\n",
              "        vertical-align: top;\n",
              "    }\n",
              "\n",
              "    .dataframe thead th {\n",
              "        text-align: right;\n",
              "    }\n",
              "</style>\n",
              "<table border=\"1\" class=\"dataframe\">\n",
              "  <thead>\n",
              "    <tr style=\"text-align: right;\">\n",
              "      <th></th>\n",
              "      <th>image</th>\n",
              "      <th>time</th>\n",
              "      <th>initial_time</th>\n",
              "      <th>pitch</th>\n",
              "      <th>yaw</th>\n",
              "      <th>roll</th>\n",
              "      <th>yawns</th>\n",
              "      <th>tag</th>\n",
              "    </tr>\n",
              "    <tr>\n",
              "      <th>id</th>\n",
              "      <th></th>\n",
              "      <th></th>\n",
              "      <th></th>\n",
              "      <th></th>\n",
              "      <th></th>\n",
              "      <th></th>\n",
              "      <th></th>\n",
              "      <th></th>\n",
              "    </tr>\n",
              "  </thead>\n",
              "  <tbody>\n",
              "    <tr>\n",
              "      <th>1</th>\n",
              "      <td>/images/image1.jpg</td>\n",
              "      <td>2020-01-22T17:22:08.135000</td>\n",
              "      <td>2020-01-22T17:22:07.443000</td>\n",
              "      <td>10.746500</td>\n",
              "      <td>-33.467357</td>\n",
              "      <td>-3.569197</td>\n",
              "      <td>42</td>\n",
              "      <td>untagged</td>\n",
              "    </tr>\n",
              "    <tr>\n",
              "      <th>2</th>\n",
              "      <td>/images/image2.jpg</td>\n",
              "      <td>2020-01-22T17:22:08.367000</td>\n",
              "      <td>2020-01-22T17:22:07.443000</td>\n",
              "      <td>12.180362</td>\n",
              "      <td>-34.306218</td>\n",
              "      <td>-4.846204</td>\n",
              "      <td>42</td>\n",
              "      <td>untagged</td>\n",
              "    </tr>\n",
              "    <tr>\n",
              "      <th>3</th>\n",
              "      <td>/images/image3.jpg</td>\n",
              "      <td>2020-01-22T17:22:08.599000</td>\n",
              "      <td>2020-01-22T17:22:07.443000</td>\n",
              "      <td>11.764933</td>\n",
              "      <td>-32.793980</td>\n",
              "      <td>-4.018201</td>\n",
              "      <td>42</td>\n",
              "      <td>untagged</td>\n",
              "    </tr>\n",
              "    <tr>\n",
              "      <th>4</th>\n",
              "      <td>/images/image4.jpg</td>\n",
              "      <td>2020-01-22T17:22:07.443000</td>\n",
              "      <td>2020-01-22T17:22:07.443000</td>\n",
              "      <td>15.753147</td>\n",
              "      <td>-29.482020</td>\n",
              "      <td>-5.783584</td>\n",
              "      <td>42</td>\n",
              "      <td>untagged</td>\n",
              "    </tr>\n",
              "    <tr>\n",
              "      <th>5</th>\n",
              "      <td>/images/image5.jpg</td>\n",
              "      <td>2020-01-22T17:22:07.672000</td>\n",
              "      <td>2020-01-22T17:22:07.443000</td>\n",
              "      <td>15.288966</td>\n",
              "      <td>-29.170070</td>\n",
              "      <td>-2.748542</td>\n",
              "      <td>42</td>\n",
              "      <td>untagged</td>\n",
              "    </tr>\n",
              "  </tbody>\n",
              "</table>\n",
              "</div>"
            ],
            "text/plain": [
              "                 image                        time  ... yawns       tag\n",
              "id                                                  ...                \n",
              "1   /images/image1.jpg  2020-01-22T17:22:08.135000  ...    42  untagged\n",
              "2   /images/image2.jpg  2020-01-22T17:22:08.367000  ...    42  untagged\n",
              "3   /images/image3.jpg  2020-01-22T17:22:08.599000  ...    42  untagged\n",
              "4   /images/image4.jpg  2020-01-22T17:22:07.443000  ...    42  untagged\n",
              "5   /images/image5.jpg  2020-01-22T17:22:07.672000  ...    42  untagged\n",
              "\n",
              "[5 rows x 8 columns]"
            ]
          },
          "metadata": {
            "tags": []
          },
          "execution_count": 87
        }
      ]
    },
    {
      "cell_type": "code",
      "metadata": {
        "id": "pdQFf5xL5Zgr",
        "colab_type": "code",
        "outputId": "10b1ab93-a3c4-4fad-eba1-8c3508b16c06",
        "colab": {
          "base_uri": "https://localhost:8080/",
          "height": 284
        }
      },
      "source": [
        "sleep_Data.describe()"
      ],
      "execution_count": 0,
      "outputs": [
        {
          "output_type": "execute_result",
          "data": {
            "text/html": [
              "<div>\n",
              "<style scoped>\n",
              "    .dataframe tbody tr th:only-of-type {\n",
              "        vertical-align: middle;\n",
              "    }\n",
              "\n",
              "    .dataframe tbody tr th {\n",
              "        vertical-align: top;\n",
              "    }\n",
              "\n",
              "    .dataframe thead th {\n",
              "        text-align: right;\n",
              "    }\n",
              "</style>\n",
              "<table border=\"1\" class=\"dataframe\">\n",
              "  <thead>\n",
              "    <tr style=\"text-align: right;\">\n",
              "      <th></th>\n",
              "      <th>pitch</th>\n",
              "      <th>yaw</th>\n",
              "      <th>roll</th>\n",
              "      <th>yawns</th>\n",
              "    </tr>\n",
              "  </thead>\n",
              "  <tbody>\n",
              "    <tr>\n",
              "      <th>count</th>\n",
              "      <td>9120.000000</td>\n",
              "      <td>9120.000000</td>\n",
              "      <td>9120.000000</td>\n",
              "      <td>9120.000000</td>\n",
              "    </tr>\n",
              "    <tr>\n",
              "      <th>mean</th>\n",
              "      <td>20.021266</td>\n",
              "      <td>-26.296021</td>\n",
              "      <td>-7.484727</td>\n",
              "      <td>12.238816</td>\n",
              "    </tr>\n",
              "    <tr>\n",
              "      <th>std</th>\n",
              "      <td>13.580649</td>\n",
              "      <td>23.710786</td>\n",
              "      <td>12.668202</td>\n",
              "      <td>14.363362</td>\n",
              "    </tr>\n",
              "    <tr>\n",
              "      <th>min</th>\n",
              "      <td>-25.995724</td>\n",
              "      <td>-67.263201</td>\n",
              "      <td>-178.874990</td>\n",
              "      <td>0.000000</td>\n",
              "    </tr>\n",
              "    <tr>\n",
              "      <th>25%</th>\n",
              "      <td>12.712986</td>\n",
              "      <td>-44.984264</td>\n",
              "      <td>-14.023109</td>\n",
              "      <td>2.000000</td>\n",
              "    </tr>\n",
              "    <tr>\n",
              "      <th>50%</th>\n",
              "      <td>19.684845</td>\n",
              "      <td>-31.091948</td>\n",
              "      <td>-8.519872</td>\n",
              "      <td>8.000000</td>\n",
              "    </tr>\n",
              "    <tr>\n",
              "      <th>75%</th>\n",
              "      <td>26.443946</td>\n",
              "      <td>-14.156473</td>\n",
              "      <td>-2.655539</td>\n",
              "      <td>18.000000</td>\n",
              "    </tr>\n",
              "    <tr>\n",
              "      <th>max</th>\n",
              "      <td>94.058592</td>\n",
              "      <td>61.573714</td>\n",
              "      <td>179.925438</td>\n",
              "      <td>98.000000</td>\n",
              "    </tr>\n",
              "  </tbody>\n",
              "</table>\n",
              "</div>"
            ],
            "text/plain": [
              "             pitch          yaw         roll        yawns\n",
              "count  9120.000000  9120.000000  9120.000000  9120.000000\n",
              "mean     20.021266   -26.296021    -7.484727    12.238816\n",
              "std      13.580649    23.710786    12.668202    14.363362\n",
              "min     -25.995724   -67.263201  -178.874990     0.000000\n",
              "25%      12.712986   -44.984264   -14.023109     2.000000\n",
              "50%      19.684845   -31.091948    -8.519872     8.000000\n",
              "75%      26.443946   -14.156473    -2.655539    18.000000\n",
              "max      94.058592    61.573714   179.925438    98.000000"
            ]
          },
          "metadata": {
            "tags": []
          },
          "execution_count": 88
        }
      ]
    },
    {
      "cell_type": "markdown",
      "metadata": {
        "id": "Qg1GsXRG9HBK",
        "colab_type": "text"
      },
      "source": [
        "Se remplazan los valores de los tags por valores numericos\n",
        "\n",
        "\n",
        "*   Sin etiqueta: 0\n",
        "*   Dormido: 1\n",
        "\n"
      ]
    },
    {
      "cell_type": "code",
      "metadata": {
        "id": "QZgy3wTH8Jcy",
        "colab_type": "code",
        "outputId": "5e0b33d3-3c9e-4cba-f81d-ac4bdee682ce",
        "colab": {
          "base_uri": "https://localhost:8080/",
          "height": 284
        }
      },
      "source": [
        "sleep_Data = sleep_Data.replace('untagged', 0)\n",
        "sleep_Data = sleep_Data.replace('dormido', 1)\n",
        "sleep_Data.describe()"
      ],
      "execution_count": 0,
      "outputs": [
        {
          "output_type": "execute_result",
          "data": {
            "text/html": [
              "<div>\n",
              "<style scoped>\n",
              "    .dataframe tbody tr th:only-of-type {\n",
              "        vertical-align: middle;\n",
              "    }\n",
              "\n",
              "    .dataframe tbody tr th {\n",
              "        vertical-align: top;\n",
              "    }\n",
              "\n",
              "    .dataframe thead th {\n",
              "        text-align: right;\n",
              "    }\n",
              "</style>\n",
              "<table border=\"1\" class=\"dataframe\">\n",
              "  <thead>\n",
              "    <tr style=\"text-align: right;\">\n",
              "      <th></th>\n",
              "      <th>pitch</th>\n",
              "      <th>yaw</th>\n",
              "      <th>roll</th>\n",
              "      <th>yawns</th>\n",
              "      <th>tag</th>\n",
              "    </tr>\n",
              "  </thead>\n",
              "  <tbody>\n",
              "    <tr>\n",
              "      <th>count</th>\n",
              "      <td>9120.000000</td>\n",
              "      <td>9120.000000</td>\n",
              "      <td>9120.000000</td>\n",
              "      <td>9120.000000</td>\n",
              "      <td>9120.000000</td>\n",
              "    </tr>\n",
              "    <tr>\n",
              "      <th>mean</th>\n",
              "      <td>20.021266</td>\n",
              "      <td>-26.296021</td>\n",
              "      <td>-7.484727</td>\n",
              "      <td>12.238816</td>\n",
              "      <td>0.236842</td>\n",
              "    </tr>\n",
              "    <tr>\n",
              "      <th>std</th>\n",
              "      <td>13.580649</td>\n",
              "      <td>23.710786</td>\n",
              "      <td>12.668202</td>\n",
              "      <td>14.363362</td>\n",
              "      <td>0.425168</td>\n",
              "    </tr>\n",
              "    <tr>\n",
              "      <th>min</th>\n",
              "      <td>-25.995724</td>\n",
              "      <td>-67.263201</td>\n",
              "      <td>-178.874990</td>\n",
              "      <td>0.000000</td>\n",
              "      <td>0.000000</td>\n",
              "    </tr>\n",
              "    <tr>\n",
              "      <th>25%</th>\n",
              "      <td>12.712986</td>\n",
              "      <td>-44.984264</td>\n",
              "      <td>-14.023109</td>\n",
              "      <td>2.000000</td>\n",
              "      <td>0.000000</td>\n",
              "    </tr>\n",
              "    <tr>\n",
              "      <th>50%</th>\n",
              "      <td>19.684845</td>\n",
              "      <td>-31.091948</td>\n",
              "      <td>-8.519872</td>\n",
              "      <td>8.000000</td>\n",
              "      <td>0.000000</td>\n",
              "    </tr>\n",
              "    <tr>\n",
              "      <th>75%</th>\n",
              "      <td>26.443946</td>\n",
              "      <td>-14.156473</td>\n",
              "      <td>-2.655539</td>\n",
              "      <td>18.000000</td>\n",
              "      <td>0.000000</td>\n",
              "    </tr>\n",
              "    <tr>\n",
              "      <th>max</th>\n",
              "      <td>94.058592</td>\n",
              "      <td>61.573714</td>\n",
              "      <td>179.925438</td>\n",
              "      <td>98.000000</td>\n",
              "      <td>1.000000</td>\n",
              "    </tr>\n",
              "  </tbody>\n",
              "</table>\n",
              "</div>"
            ],
            "text/plain": [
              "             pitch          yaw         roll        yawns          tag\n",
              "count  9120.000000  9120.000000  9120.000000  9120.000000  9120.000000\n",
              "mean     20.021266   -26.296021    -7.484727    12.238816     0.236842\n",
              "std      13.580649    23.710786    12.668202    14.363362     0.425168\n",
              "min     -25.995724   -67.263201  -178.874990     0.000000     0.000000\n",
              "25%      12.712986   -44.984264   -14.023109     2.000000     0.000000\n",
              "50%      19.684845   -31.091948    -8.519872     8.000000     0.000000\n",
              "75%      26.443946   -14.156473    -2.655539    18.000000     0.000000\n",
              "max      94.058592    61.573714   179.925438    98.000000     1.000000"
            ]
          },
          "metadata": {
            "tags": []
          },
          "execution_count": 89
        }
      ]
    },
    {
      "cell_type": "code",
      "metadata": {
        "id": "TzapzxRLEEF5",
        "colab_type": "code",
        "outputId": "169de177-2305-40f8-b088-592eccc73221",
        "colab": {
          "base_uri": "https://localhost:8080/",
          "height": 225
        }
      },
      "source": [
        "sleep_Data['initial_time'] = pd.to_datetime(sleep_Data['initial_time'])\n",
        "sleep_Data['time'] = pd.to_datetime(sleep_Data['time'])\n",
        "sleep_Data.head()"
      ],
      "execution_count": 0,
      "outputs": [
        {
          "output_type": "execute_result",
          "data": {
            "text/html": [
              "<div>\n",
              "<style scoped>\n",
              "    .dataframe tbody tr th:only-of-type {\n",
              "        vertical-align: middle;\n",
              "    }\n",
              "\n",
              "    .dataframe tbody tr th {\n",
              "        vertical-align: top;\n",
              "    }\n",
              "\n",
              "    .dataframe thead th {\n",
              "        text-align: right;\n",
              "    }\n",
              "</style>\n",
              "<table border=\"1\" class=\"dataframe\">\n",
              "  <thead>\n",
              "    <tr style=\"text-align: right;\">\n",
              "      <th></th>\n",
              "      <th>image</th>\n",
              "      <th>time</th>\n",
              "      <th>initial_time</th>\n",
              "      <th>pitch</th>\n",
              "      <th>yaw</th>\n",
              "      <th>roll</th>\n",
              "      <th>yawns</th>\n",
              "      <th>tag</th>\n",
              "    </tr>\n",
              "    <tr>\n",
              "      <th>id</th>\n",
              "      <th></th>\n",
              "      <th></th>\n",
              "      <th></th>\n",
              "      <th></th>\n",
              "      <th></th>\n",
              "      <th></th>\n",
              "      <th></th>\n",
              "      <th></th>\n",
              "    </tr>\n",
              "  </thead>\n",
              "  <tbody>\n",
              "    <tr>\n",
              "      <th>1</th>\n",
              "      <td>/images/image1.jpg</td>\n",
              "      <td>2020-01-22 17:22:08.135</td>\n",
              "      <td>2020-01-22 17:22:07.443</td>\n",
              "      <td>10.746500</td>\n",
              "      <td>-33.467357</td>\n",
              "      <td>-3.569197</td>\n",
              "      <td>42</td>\n",
              "      <td>0</td>\n",
              "    </tr>\n",
              "    <tr>\n",
              "      <th>2</th>\n",
              "      <td>/images/image2.jpg</td>\n",
              "      <td>2020-01-22 17:22:08.367</td>\n",
              "      <td>2020-01-22 17:22:07.443</td>\n",
              "      <td>12.180362</td>\n",
              "      <td>-34.306218</td>\n",
              "      <td>-4.846204</td>\n",
              "      <td>42</td>\n",
              "      <td>0</td>\n",
              "    </tr>\n",
              "    <tr>\n",
              "      <th>3</th>\n",
              "      <td>/images/image3.jpg</td>\n",
              "      <td>2020-01-22 17:22:08.599</td>\n",
              "      <td>2020-01-22 17:22:07.443</td>\n",
              "      <td>11.764933</td>\n",
              "      <td>-32.793980</td>\n",
              "      <td>-4.018201</td>\n",
              "      <td>42</td>\n",
              "      <td>0</td>\n",
              "    </tr>\n",
              "    <tr>\n",
              "      <th>4</th>\n",
              "      <td>/images/image4.jpg</td>\n",
              "      <td>2020-01-22 17:22:07.443</td>\n",
              "      <td>2020-01-22 17:22:07.443</td>\n",
              "      <td>15.753147</td>\n",
              "      <td>-29.482020</td>\n",
              "      <td>-5.783584</td>\n",
              "      <td>42</td>\n",
              "      <td>0</td>\n",
              "    </tr>\n",
              "    <tr>\n",
              "      <th>5</th>\n",
              "      <td>/images/image5.jpg</td>\n",
              "      <td>2020-01-22 17:22:07.672</td>\n",
              "      <td>2020-01-22 17:22:07.443</td>\n",
              "      <td>15.288966</td>\n",
              "      <td>-29.170070</td>\n",
              "      <td>-2.748542</td>\n",
              "      <td>42</td>\n",
              "      <td>0</td>\n",
              "    </tr>\n",
              "  </tbody>\n",
              "</table>\n",
              "</div>"
            ],
            "text/plain": [
              "                 image                    time  ... yawns  tag\n",
              "id                                              ...           \n",
              "1   /images/image1.jpg 2020-01-22 17:22:08.135  ...    42    0\n",
              "2   /images/image2.jpg 2020-01-22 17:22:08.367  ...    42    0\n",
              "3   /images/image3.jpg 2020-01-22 17:22:08.599  ...    42    0\n",
              "4   /images/image4.jpg 2020-01-22 17:22:07.443  ...    42    0\n",
              "5   /images/image5.jpg 2020-01-22 17:22:07.672  ...    42    0\n",
              "\n",
              "[5 rows x 8 columns]"
            ]
          },
          "metadata": {
            "tags": []
          },
          "execution_count": 90
        }
      ]
    },
    {
      "cell_type": "code",
      "metadata": {
        "id": "8Z_MvS3o5uln",
        "colab_type": "code",
        "outputId": "08335d8b-88d4-46e5-dff1-091694e26a8d",
        "colab": {
          "base_uri": "https://localhost:8080/",
          "height": 218
        }
      },
      "source": [
        "#Print all columns of the data set\n",
        "print(sleep_Data.columns)\n",
        "print(sleep_Data.dtypes)"
      ],
      "execution_count": 0,
      "outputs": [
        {
          "output_type": "stream",
          "text": [
            "Index(['image', 'time', 'initial_time', 'pitch', 'yaw', 'roll', 'yawns',\n",
            "       'tag'],\n",
            "      dtype='object')\n",
            "image                   object\n",
            "time            datetime64[ns]\n",
            "initial_time    datetime64[ns]\n",
            "pitch                  float64\n",
            "yaw                    float64\n",
            "roll                   float64\n",
            "yawns                    int64\n",
            "tag                      int64\n",
            "dtype: object\n"
          ],
          "name": "stdout"
        }
      ]
    },
    {
      "cell_type": "code",
      "metadata": {
        "id": "eeYkoS6HGErV",
        "colab_type": "code",
        "outputId": "bc55dab9-5d7d-4c4c-f97a-c43b1b4f8b5b",
        "colab": {
          "base_uri": "https://localhost:8080/",
          "height": 225
        }
      },
      "source": [
        "to_drop = ['time', 'initial_time']\n",
        "\n",
        "sleep_Data.drop(to_drop, inplace=True, axis=1)\n",
        "sleep_Data.head()"
      ],
      "execution_count": 0,
      "outputs": [
        {
          "output_type": "execute_result",
          "data": {
            "text/html": [
              "<div>\n",
              "<style scoped>\n",
              "    .dataframe tbody tr th:only-of-type {\n",
              "        vertical-align: middle;\n",
              "    }\n",
              "\n",
              "    .dataframe tbody tr th {\n",
              "        vertical-align: top;\n",
              "    }\n",
              "\n",
              "    .dataframe thead th {\n",
              "        text-align: right;\n",
              "    }\n",
              "</style>\n",
              "<table border=\"1\" class=\"dataframe\">\n",
              "  <thead>\n",
              "    <tr style=\"text-align: right;\">\n",
              "      <th></th>\n",
              "      <th>image</th>\n",
              "      <th>pitch</th>\n",
              "      <th>yaw</th>\n",
              "      <th>roll</th>\n",
              "      <th>yawns</th>\n",
              "      <th>tag</th>\n",
              "    </tr>\n",
              "    <tr>\n",
              "      <th>id</th>\n",
              "      <th></th>\n",
              "      <th></th>\n",
              "      <th></th>\n",
              "      <th></th>\n",
              "      <th></th>\n",
              "      <th></th>\n",
              "    </tr>\n",
              "  </thead>\n",
              "  <tbody>\n",
              "    <tr>\n",
              "      <th>1</th>\n",
              "      <td>/images/image1.jpg</td>\n",
              "      <td>10.746500</td>\n",
              "      <td>-33.467357</td>\n",
              "      <td>-3.569197</td>\n",
              "      <td>42</td>\n",
              "      <td>0</td>\n",
              "    </tr>\n",
              "    <tr>\n",
              "      <th>2</th>\n",
              "      <td>/images/image2.jpg</td>\n",
              "      <td>12.180362</td>\n",
              "      <td>-34.306218</td>\n",
              "      <td>-4.846204</td>\n",
              "      <td>42</td>\n",
              "      <td>0</td>\n",
              "    </tr>\n",
              "    <tr>\n",
              "      <th>3</th>\n",
              "      <td>/images/image3.jpg</td>\n",
              "      <td>11.764933</td>\n",
              "      <td>-32.793980</td>\n",
              "      <td>-4.018201</td>\n",
              "      <td>42</td>\n",
              "      <td>0</td>\n",
              "    </tr>\n",
              "    <tr>\n",
              "      <th>4</th>\n",
              "      <td>/images/image4.jpg</td>\n",
              "      <td>15.753147</td>\n",
              "      <td>-29.482020</td>\n",
              "      <td>-5.783584</td>\n",
              "      <td>42</td>\n",
              "      <td>0</td>\n",
              "    </tr>\n",
              "    <tr>\n",
              "      <th>5</th>\n",
              "      <td>/images/image5.jpg</td>\n",
              "      <td>15.288966</td>\n",
              "      <td>-29.170070</td>\n",
              "      <td>-2.748542</td>\n",
              "      <td>42</td>\n",
              "      <td>0</td>\n",
              "    </tr>\n",
              "  </tbody>\n",
              "</table>\n",
              "</div>"
            ],
            "text/plain": [
              "                 image      pitch        yaw      roll  yawns  tag\n",
              "id                                                                \n",
              "1   /images/image1.jpg  10.746500 -33.467357 -3.569197     42    0\n",
              "2   /images/image2.jpg  12.180362 -34.306218 -4.846204     42    0\n",
              "3   /images/image3.jpg  11.764933 -32.793980 -4.018201     42    0\n",
              "4   /images/image4.jpg  15.753147 -29.482020 -5.783584     42    0\n",
              "5   /images/image5.jpg  15.288966 -29.170070 -2.748542     42    0"
            ]
          },
          "metadata": {
            "tags": []
          },
          "execution_count": 92
        }
      ]
    },
    {
      "cell_type": "markdown",
      "metadata": {
        "id": "T9t183UowGsB",
        "colab_type": "text"
      },
      "source": [
        "# Analisis de los datos\n",
        "\n",
        "Se chekea que ninguna de las variables contengan valores nulos"
      ]
    },
    {
      "cell_type": "code",
      "metadata": {
        "id": "3yyBRrKD5-qR",
        "colab_type": "code",
        "outputId": "1292c080-18f0-4c36-d206-434d9b8ea92c",
        "colab": {
          "base_uri": "https://localhost:8080/",
          "height": 134
        }
      },
      "source": [
        "sleep_Data.isnull().any()"
      ],
      "execution_count": 0,
      "outputs": [
        {
          "output_type": "execute_result",
          "data": {
            "text/plain": [
              "image    False\n",
              "pitch    False\n",
              "yaw      False\n",
              "roll     False\n",
              "yawns    False\n",
              "tag      False\n",
              "dtype: bool"
            ]
          },
          "metadata": {
            "tags": []
          },
          "execution_count": 93
        }
      ]
    },
    {
      "cell_type": "code",
      "metadata": {
        "id": "_jOsksLi6JtD",
        "colab_type": "code",
        "outputId": "6561520d-6d5c-43f0-b1a6-1f13074b0df7",
        "colab": {
          "base_uri": "https://localhost:8080/",
          "height": 341
        }
      },
      "source": [
        "plt.figure(figsize=(12,5))\n",
        "sns.heatmap(sleep_Data.corr(), annot=True )"
      ],
      "execution_count": 0,
      "outputs": [
        {
          "output_type": "execute_result",
          "data": {
            "text/plain": [
              "<matplotlib.axes._subplots.AxesSubplot at 0x7f2e8ea1d470>"
            ]
          },
          "metadata": {
            "tags": []
          },
          "execution_count": 94
        },
        {
          "output_type": "display_data",
          "data": {
            "image/png": "[encoded data removed]",
            "text/plain": [
              "<Figure size 864x360 with 2 Axes>"
            ]
          },
          "metadata": {
            "tags": []
          }
        }
      ]
    },
    {
      "cell_type": "markdown",
      "metadata": {
        "id": "VK5P9DeC-mzG",
        "colab_type": "text"
      },
      "source": [
        "Conteo de las etiquetas en el data set. Se logra apreciar que la cantidad de objectos sin etiquetas es bastante alta"
      ]
    },
    {
      "cell_type": "code",
      "metadata": {
        "id": "1x0Gwp40-RVv",
        "colab_type": "code",
        "outputId": "2ccd5078-6654-4b5f-a935-74f0f6df45be",
        "colab": {
          "base_uri": "https://localhost:8080/",
          "height": 296
        }
      },
      "source": [
        "sns.countplot(x='tag', data=sleep_Data)"
      ],
      "execution_count": 0,
      "outputs": [
        {
          "output_type": "execute_result",
          "data": {
            "text/plain": [
              "<matplotlib.axes._subplots.AxesSubplot at 0x7f2e8e7652b0>"
            ]
          },
          "metadata": {
            "tags": []
          },
          "execution_count": 95
        },
        {
          "output_type": "display_data",
          "data": {
            "image/png": "[encoded data removed]",
            "text/plain": [
              "<Figure size 432x288 with 1 Axes>"
            ]
          },
          "metadata": {
            "tags": []
          }
        }
      ]
    },
    {
      "cell_type": "code",
      "metadata": {
        "id": "ypXmP094-z5t",
        "colab_type": "code",
        "outputId": "ee5cd47a-3528-4b0c-dea0-61b60aa37444",
        "colab": {
          "base_uri": "https://localhost:8080/",
          "height": 768
        }
      },
      "source": [
        "sns.pairplot(data=sleep_Data, hue='tag')"
      ],
      "execution_count": 0,
      "outputs": [
        {
          "output_type": "execute_result",
          "data": {
            "text/plain": [
              "<seaborn.axisgrid.PairGrid at 0x7f2e8e23ca90>"
            ]
          },
          "metadata": {
            "tags": []
          },
          "execution_count": 96
        },
        {
          "output_type": "display_data",
          "data": {
            "image/png": "[encoded data removed]",
            "text/plain": [
              "<Figure size 762.375x720 with 20 Axes>"
            ]
          },
          "metadata": {
            "tags": []
          }
        }
      ]
    },
    {
      "cell_type": "markdown",
      "metadata": {
        "id": "vxanMwO1_S4x",
        "colab_type": "text"
      },
      "source": [
        "# Preparación de los conjuntos para el entrenamiento\n",
        "\n",
        "Para mantener el dataset original intacto se crea una copia del objecto"
      ]
    },
    {
      "cell_type": "code",
      "metadata": {
        "id": "RULryV1h_R3q",
        "colab_type": "code",
        "outputId": "435e311c-3d03-43d6-f096-f31f7cced4a0",
        "colab": {
          "base_uri": "https://localhost:8080/",
          "height": 225
        }
      },
      "source": [
        "df = sleep_Data.copy()\n",
        "df.head(5)"
      ],
      "execution_count": 0,
      "outputs": [
        {
          "output_type": "execute_result",
          "data": {
            "text/html": [
              "<div>\n",
              "<style scoped>\n",
              "    .dataframe tbody tr th:only-of-type {\n",
              "        vertical-align: middle;\n",
              "    }\n",
              "\n",
              "    .dataframe tbody tr th {\n",
              "        vertical-align: top;\n",
              "    }\n",
              "\n",
              "    .dataframe thead th {\n",
              "        text-align: right;\n",
              "    }\n",
              "</style>\n",
              "<table border=\"1\" class=\"dataframe\">\n",
              "  <thead>\n",
              "    <tr style=\"text-align: right;\">\n",
              "      <th></th>\n",
              "      <th>image</th>\n",
              "      <th>pitch</th>\n",
              "      <th>yaw</th>\n",
              "      <th>roll</th>\n",
              "      <th>yawns</th>\n",
              "      <th>tag</th>\n",
              "    </tr>\n",
              "    <tr>\n",
              "      <th>id</th>\n",
              "      <th></th>\n",
              "      <th></th>\n",
              "      <th></th>\n",
              "      <th></th>\n",
              "      <th></th>\n",
              "      <th></th>\n",
              "    </tr>\n",
              "  </thead>\n",
              "  <tbody>\n",
              "    <tr>\n",
              "      <th>1</th>\n",
              "      <td>/images/image1.jpg</td>\n",
              "      <td>10.746500</td>\n",
              "      <td>-33.467357</td>\n",
              "      <td>-3.569197</td>\n",
              "      <td>42</td>\n",
              "      <td>0</td>\n",
              "    </tr>\n",
              "    <tr>\n",
              "      <th>2</th>\n",
              "      <td>/images/image2.jpg</td>\n",
              "      <td>12.180362</td>\n",
              "      <td>-34.306218</td>\n",
              "      <td>-4.846204</td>\n",
              "      <td>42</td>\n",
              "      <td>0</td>\n",
              "    </tr>\n",
              "    <tr>\n",
              "      <th>3</th>\n",
              "      <td>/images/image3.jpg</td>\n",
              "      <td>11.764933</td>\n",
              "      <td>-32.793980</td>\n",
              "      <td>-4.018201</td>\n",
              "      <td>42</td>\n",
              "      <td>0</td>\n",
              "    </tr>\n",
              "    <tr>\n",
              "      <th>4</th>\n",
              "      <td>/images/image4.jpg</td>\n",
              "      <td>15.753147</td>\n",
              "      <td>-29.482020</td>\n",
              "      <td>-5.783584</td>\n",
              "      <td>42</td>\n",
              "      <td>0</td>\n",
              "    </tr>\n",
              "    <tr>\n",
              "      <th>5</th>\n",
              "      <td>/images/image5.jpg</td>\n",
              "      <td>15.288966</td>\n",
              "      <td>-29.170070</td>\n",
              "      <td>-2.748542</td>\n",
              "      <td>42</td>\n",
              "      <td>0</td>\n",
              "    </tr>\n",
              "  </tbody>\n",
              "</table>\n",
              "</div>"
            ],
            "text/plain": [
              "                 image      pitch        yaw      roll  yawns  tag\n",
              "id                                                                \n",
              "1   /images/image1.jpg  10.746500 -33.467357 -3.569197     42    0\n",
              "2   /images/image2.jpg  12.180362 -34.306218 -4.846204     42    0\n",
              "3   /images/image3.jpg  11.764933 -32.793980 -4.018201     42    0\n",
              "4   /images/image4.jpg  15.753147 -29.482020 -5.783584     42    0\n",
              "5   /images/image5.jpg  15.288966 -29.170070 -2.748542     42    0"
            ]
          },
          "metadata": {
            "tags": []
          },
          "execution_count": 97
        }
      ]
    },
    {
      "cell_type": "code",
      "metadata": {
        "id": "LBkC_q5J_iak",
        "colab_type": "code",
        "outputId": "c635071a-522e-4aa0-9bbb-ddff3048dc6f",
        "colab": {
          "base_uri": "https://localhost:8080/",
          "height": 34
        }
      },
      "source": [
        "df.columns"
      ],
      "execution_count": 0,
      "outputs": [
        {
          "output_type": "execute_result",
          "data": {
            "text/plain": [
              "Index(['image', 'pitch', 'yaw', 'roll', 'yawns', 'tag'], dtype='object')"
            ]
          },
          "metadata": {
            "tags": []
          },
          "execution_count": 98
        }
      ]
    },
    {
      "cell_type": "code",
      "metadata": {
        "id": "5va2U6A4AVet",
        "colab_type": "code",
        "outputId": "d2050df1-c723-44fc-dc8c-17670594ac01",
        "colab": {
          "base_uri": "https://localhost:8080/",
          "height": 225
        }
      },
      "source": [
        "def data_prep(df):\n",
        "  feature_columns = df.columns[1:-1]\n",
        "  df_features = pd.DataFrame(data=df, columns=feature_columns)\n",
        "  return df_features\n",
        "\n",
        "df_features = data_prep(df)\n",
        "df_features.head()"
      ],
      "execution_count": 0,
      "outputs": [
        {
          "output_type": "execute_result",
          "data": {
            "text/html": [
              "<div>\n",
              "<style scoped>\n",
              "    .dataframe tbody tr th:only-of-type {\n",
              "        vertical-align: middle;\n",
              "    }\n",
              "\n",
              "    .dataframe tbody tr th {\n",
              "        vertical-align: top;\n",
              "    }\n",
              "\n",
              "    .dataframe thead th {\n",
              "        text-align: right;\n",
              "    }\n",
              "</style>\n",
              "<table border=\"1\" class=\"dataframe\">\n",
              "  <thead>\n",
              "    <tr style=\"text-align: right;\">\n",
              "      <th></th>\n",
              "      <th>pitch</th>\n",
              "      <th>yaw</th>\n",
              "      <th>roll</th>\n",
              "      <th>yawns</th>\n",
              "    </tr>\n",
              "    <tr>\n",
              "      <th>id</th>\n",
              "      <th></th>\n",
              "      <th></th>\n",
              "      <th></th>\n",
              "      <th></th>\n",
              "    </tr>\n",
              "  </thead>\n",
              "  <tbody>\n",
              "    <tr>\n",
              "      <th>1</th>\n",
              "      <td>10.746500</td>\n",
              "      <td>-33.467357</td>\n",
              "      <td>-3.569197</td>\n",
              "      <td>42</td>\n",
              "    </tr>\n",
              "    <tr>\n",
              "      <th>2</th>\n",
              "      <td>12.180362</td>\n",
              "      <td>-34.306218</td>\n",
              "      <td>-4.846204</td>\n",
              "      <td>42</td>\n",
              "    </tr>\n",
              "    <tr>\n",
              "      <th>3</th>\n",
              "      <td>11.764933</td>\n",
              "      <td>-32.793980</td>\n",
              "      <td>-4.018201</td>\n",
              "      <td>42</td>\n",
              "    </tr>\n",
              "    <tr>\n",
              "      <th>4</th>\n",
              "      <td>15.753147</td>\n",
              "      <td>-29.482020</td>\n",
              "      <td>-5.783584</td>\n",
              "      <td>42</td>\n",
              "    </tr>\n",
              "    <tr>\n",
              "      <th>5</th>\n",
              "      <td>15.288966</td>\n",
              "      <td>-29.170070</td>\n",
              "      <td>-2.748542</td>\n",
              "      <td>42</td>\n",
              "    </tr>\n",
              "  </tbody>\n",
              "</table>\n",
              "</div>"
            ],
            "text/plain": [
              "        pitch        yaw      roll  yawns\n",
              "id                                       \n",
              "1   10.746500 -33.467357 -3.569197     42\n",
              "2   12.180362 -34.306218 -4.846204     42\n",
              "3   11.764933 -32.793980 -4.018201     42\n",
              "4   15.753147 -29.482020 -5.783584     42\n",
              "5   15.288966 -29.170070 -2.748542     42"
            ]
          },
          "metadata": {
            "tags": []
          },
          "execution_count": 99
        }
      ]
    },
    {
      "cell_type": "markdown",
      "metadata": {
        "id": "tIpX0dOUBaUs",
        "colab_type": "text"
      },
      "source": [
        "Se divide la data en el set de entrenamiento y testeo del modelo"
      ]
    },
    {
      "cell_type": "code",
      "metadata": {
        "id": "w4f7YigmBZVM",
        "colab_type": "code",
        "colab": {}
      },
      "source": [
        "X = df_features.copy()\n",
        "y = df['tag'].copy()\n",
        "X_train, X_test, y_train, y_test = train_test_split(X, y, test_size=0.3)"
      ],
      "execution_count": 0,
      "outputs": []
    },
    {
      "cell_type": "markdown",
      "metadata": {
        "id": "hym86fERGkqV",
        "colab_type": "text"
      },
      "source": [
        "Se crea un Escalador estandar"
      ]
    },
    {
      "cell_type": "code",
      "metadata": {
        "id": "bqeatibECq-o",
        "colab_type": "code",
        "outputId": "9a4b1222-6eb0-48aa-ed82-3c057ee19718",
        "colab": {
          "base_uri": "https://localhost:8080/",
          "height": 195
        }
      },
      "source": [
        "def standardScaling(feature):\n",
        "  scaler = StandardScaler().fit(feature)\n",
        "  scaled_feature = scaler.transform(feature)\n",
        "  scaled_feat = pd.DataFrame(data = scaled_feature, columns=df_features.columns)\n",
        "  return scaled_feat\n",
        "\n",
        "X_train_scaled = standardScaling(X_train)\n",
        "X_test_scaled = standardScaling(X_test)\n",
        "\n",
        "X_train_scaled.head()"
      ],
      "execution_count": 0,
      "outputs": [
        {
          "output_type": "execute_result",
          "data": {
            "text/html": [
              "<div>\n",
              "<style scoped>\n",
              "    .dataframe tbody tr th:only-of-type {\n",
              "        vertical-align: middle;\n",
              "    }\n",
              "\n",
              "    .dataframe tbody tr th {\n",
              "        vertical-align: top;\n",
              "    }\n",
              "\n",
              "    .dataframe thead th {\n",
              "        text-align: right;\n",
              "    }\n",
              "</style>\n",
              "<table border=\"1\" class=\"dataframe\">\n",
              "  <thead>\n",
              "    <tr style=\"text-align: right;\">\n",
              "      <th></th>\n",
              "      <th>pitch</th>\n",
              "      <th>yaw</th>\n",
              "      <th>roll</th>\n",
              "      <th>yawns</th>\n",
              "    </tr>\n",
              "  </thead>\n",
              "  <tbody>\n",
              "    <tr>\n",
              "      <th>0</th>\n",
              "      <td>0.903127</td>\n",
              "      <td>0.224882</td>\n",
              "      <td>-0.411152</td>\n",
              "      <td>-0.712710</td>\n",
              "    </tr>\n",
              "    <tr>\n",
              "      <th>1</th>\n",
              "      <td>-0.789042</td>\n",
              "      <td>0.495683</td>\n",
              "      <td>0.436004</td>\n",
              "      <td>-0.852431</td>\n",
              "    </tr>\n",
              "    <tr>\n",
              "      <th>2</th>\n",
              "      <td>0.946705</td>\n",
              "      <td>0.435233</td>\n",
              "      <td>-0.029727</td>\n",
              "      <td>-0.712710</td>\n",
              "    </tr>\n",
              "    <tr>\n",
              "      <th>3</th>\n",
              "      <td>-0.030556</td>\n",
              "      <td>-0.992184</td>\n",
              "      <td>-0.950656</td>\n",
              "      <td>1.243383</td>\n",
              "    </tr>\n",
              "    <tr>\n",
              "      <th>4</th>\n",
              "      <td>0.062704</td>\n",
              "      <td>-0.854991</td>\n",
              "      <td>-0.803286</td>\n",
              "      <td>-0.503129</td>\n",
              "    </tr>\n",
              "  </tbody>\n",
              "</table>\n",
              "</div>"
            ],
            "text/plain": [
              "      pitch       yaw      roll     yawns\n",
              "0  0.903127  0.224882 -0.411152 -0.712710\n",
              "1 -0.789042  0.495683  0.436004 -0.852431\n",
              "2  0.946705  0.435233 -0.029727 -0.712710\n",
              "3 -0.030556 -0.992184 -0.950656  1.243383\n",
              "4  0.062704 -0.854991 -0.803286 -0.503129"
            ]
          },
          "metadata": {
            "tags": []
          },
          "execution_count": 101
        }
      ]
    },
    {
      "cell_type": "markdown",
      "metadata": {
        "id": "mOq-ZwdtGrak",
        "colab_type": "text"
      },
      "source": [
        "Durante el escalamiento X_train y X_test cambiaron, por lo que se tiene que reiniciar los indexes de los contrair se tendra una incoherencia en los indices"
      ]
    },
    {
      "cell_type": "code",
      "metadata": {
        "id": "Ylufqcq4C6S4",
        "colab_type": "code",
        "colab": {}
      },
      "source": [
        "y_train = y_train.reset_index(drop=True)\n",
        "y_test = y_test.reset_index(drop=True)"
      ],
      "execution_count": 0,
      "outputs": []
    },
    {
      "cell_type": "code",
      "metadata": {
        "id": "5oni9TVZJ5dT",
        "colab_type": "code",
        "colab": {}
      },
      "source": [
        "input_func_train = tf.compat.v1.estimator.inputs.pandas_input_fn(x=X_train_scaled, y=y_train, batch_size=50, shuffle=True)\n",
        "\n",
        "input_func_test = tf.compat.v1.estimator.inputs.pandas_input_fn(x=X_test_scaled, y=y_test, batch_size=50, shuffle=False)\n",
        "\n",
        "input_func_prediction = tf.compat.v1.estimator.inputs.pandas_input_fn(x=X_test_scaled, y=y_test, batch_size=50, shuffle=False)"
      ],
      "execution_count": 0,
      "outputs": []
    },
    {
      "cell_type": "code",
      "metadata": {
        "id": "L4VF9LJkLuR-",
        "colab_type": "code",
        "outputId": "dcd0e0c1-c6a3-4896-f174-308551386b27",
        "colab": {
          "base_uri": "https://localhost:8080/",
          "height": 34
        }
      },
      "source": [
        "df_features.columns"
      ],
      "execution_count": 0,
      "outputs": [
        {
          "output_type": "execute_result",
          "data": {
            "text/plain": [
              "Index(['pitch', 'yaw', 'roll', 'yawns'], dtype='object')"
            ]
          },
          "metadata": {
            "tags": []
          },
          "execution_count": 105
        }
      ]
    },
    {
      "cell_type": "code",
      "metadata": {
        "id": "dM8Aqb0PL2ta",
        "colab_type": "code",
        "outputId": "8f81bd35-f81d-4b6b-8f2f-ec5beea4fdf1",
        "colab": {
          "base_uri": "https://localhost:8080/",
          "height": 84
        }
      },
      "source": [
        "my_feature_columns = []\n",
        "\n",
        "for col in df_features.columns:\n",
        "  my_feature_columns.append(tf.feature_column.numeric_column(col))\n",
        "\n",
        "my_feature_columns"
      ],
      "execution_count": 0,
      "outputs": [
        {
          "output_type": "execute_result",
          "data": {
            "text/plain": [
              "[NumericColumn(key='pitch', shape=(1,), default_value=None, dtype=tf.float32, normalizer_fn=None),\n",
              " NumericColumn(key='yaw', shape=(1,), default_value=None, dtype=tf.float32, normalizer_fn=None),\n",
              " NumericColumn(key='roll', shape=(1,), default_value=None, dtype=tf.float32, normalizer_fn=None),\n",
              " NumericColumn(key='yawns', shape=(1,), default_value=None, dtype=tf.float32, normalizer_fn=None)]"
            ]
          },
          "metadata": {
            "tags": []
          },
          "execution_count": 106
        }
      ]
    },
    {
      "cell_type": "markdown",
      "metadata": {
        "id": "vpALGwknMvax",
        "colab_type": "text"
      },
      "source": [
        "# Clasificador DNN\n",
        "\n",
        "Se instancia el estimador"
      ]
    },
    {
      "cell_type": "code",
      "metadata": {
        "id": "TJ7u1tr4MTvY",
        "colab_type": "code",
        "outputId": "d1742dcb-7861-4b69-f89d-9149e0f6c354",
        "colab": {
          "base_uri": "https://localhost:8080/",
          "height": 188
        }
      },
      "source": [
        "classifier = tf.estimator.DNNClassifier(feature_columns=my_feature_columns,\n",
        "                                        hidden_units=[10, 10], n_classes=2)"
      ],
      "execution_count": 0,
      "outputs": [
        {
          "output_type": "stream",
          "text": [
            "INFO:tensorflow:Using default config.\n",
            "WARNING:tensorflow:Using temporary folder as model directory: /tmp/tmpsh23kxco\n",
            "INFO:tensorflow:Using config: {'_model_dir': '/tmp/tmpsh23kxco', '_tf_random_seed': None, '_save_summary_steps': 100, '_save_checkpoints_steps': None, '_save_checkpoints_secs': 600, '_session_config': allow_soft_placement: true\n",
            "graph_options {\n",
            "  rewrite_options {\n",
            "    meta_optimizer_iterations: ONE\n",
            "  }\n",
            "}\n",
            ", '_keep_checkpoint_max': 5, '_keep_checkpoint_every_n_hours': 10000, '_log_step_count_steps': 100, '_train_distribute': None, '_device_fn': None, '_protocol': None, '_eval_distribute': None, '_experimental_distribute': None, '_experimental_max_worker_delay_secs': None, '_session_creation_timeout_secs': 7200, '_service': None, '_cluster_spec': ClusterSpec({}), '_task_type': 'worker', '_task_id': 0, '_global_id_in_cluster': 0, '_master': '', '_evaluation_master': '', '_is_chief': True, '_num_ps_replicas': 0, '_num_worker_replicas': 1}\n"
          ],
          "name": "stdout"
        }
      ]
    },
    {
      "cell_type": "code",
      "metadata": {
        "id": "68SXECHnMzxh",
        "colab_type": "code",
        "outputId": "ca8cdb21-da93-415f-9ab5-4c8c01faa1cf",
        "colab": {
          "base_uri": "https://localhost:8080/",
          "height": 726
        }
      },
      "source": [
        "classifier.train(input_fn=input_func_train, steps=50)"
      ],
      "execution_count": 0,
      "outputs": [
        {
          "output_type": "stream",
          "text": [
            "WARNING:tensorflow:From /usr/local/lib/python3.6/dist-packages/tensorflow/python/ops/resource_variable_ops.py:1666: calling BaseResourceVariable.__init__ (from tensorflow.python.ops.resource_variable_ops) with constraint is deprecated and will be removed in a future version.\n",
            "Instructions for updating:\n",
            "If using Keras pass *_constraint arguments to layers.\n",
            "WARNING:tensorflow:From /usr/local/lib/python3.6/dist-packages/tensorflow/python/training/training_util.py:236: Variable.initialized_value (from tensorflow.python.ops.variables) is deprecated and will be removed in a future version.\n",
            "Instructions for updating:\n",
            "Use Variable.read_value. Variables in 2.X are initialized automatically both in eager and graph (inside tf.defun) contexts.\n",
            "WARNING:tensorflow:From /usr/local/lib/python3.6/dist-packages/tensorflow_estimator/python/estimator/inputs/queues/feeding_queue_runner.py:65: QueueRunner.__init__ (from tensorflow.python.training.queue_runner_impl) is deprecated and will be removed in a future version.\n",
            "Instructions for updating:\n",
            "To construct input pipelines, use the `tf.data` module.\n",
            "WARNING:tensorflow:From /usr/local/lib/python3.6/dist-packages/tensorflow_estimator/python/estimator/inputs/queues/feeding_functions.py:491: add_queue_runner (from tensorflow.python.training.queue_runner_impl) is deprecated and will be removed in a future version.\n",
            "Instructions for updating:\n",
            "To construct input pipelines, use the `tf.data` module.\n",
            "INFO:tensorflow:Calling model_fn.\n",
            "WARNING:tensorflow:Layer dnn is casting an input tensor from dtype float64 to the layer's dtype of float32, which is new behavior in TensorFlow 2.  The layer has dtype float32 because it's dtype defaults to floatx.\n",
            "\n",
            "If you intended to run this layer in float32, you can safely ignore this warning. If in doubt, this warning is likely only an issue if you are porting a TensorFlow 1.X model to TensorFlow 2.\n",
            "\n",
            "To change all layers to have dtype float64 by default, call `tf.keras.backend.set_floatx('float64')`. To change just this layer, pass dtype='float64' to the layer constructor. If you are the author of this layer, you can disable autocasting by passing autocast=False to the base Layer constructor.\n",
            "\n",
            "WARNING:tensorflow:From /usr/local/lib/python3.6/dist-packages/tensorflow/python/keras/optimizer_v2/adagrad.py:106: calling Constant.__init__ (from tensorflow.python.ops.init_ops) with dtype is deprecated and will be removed in a future version.\n",
            "Instructions for updating:\n",
            "Call initializer instance with the dtype argument instead of passing it to the constructor\n",
            "INFO:tensorflow:Done calling model_fn.\n",
            "INFO:tensorflow:Create CheckpointSaverHook.\n",
            "INFO:tensorflow:Graph was finalized.\n",
            "INFO:tensorflow:Running local_init_op.\n",
            "INFO:tensorflow:Done running local_init_op.\n",
            "WARNING:tensorflow:From /usr/local/lib/python3.6/dist-packages/tensorflow/python/training/monitored_session.py:906: start_queue_runners (from tensorflow.python.training.queue_runner_impl) is deprecated and will be removed in a future version.\n",
            "Instructions for updating:\n",
            "To construct input pipelines, use the `tf.data` module.\n",
            "INFO:tensorflow:Calling checkpoint listeners before saving checkpoint 0...\n",
            "INFO:tensorflow:Saving checkpoints for 0 into /tmp/tmpsh23kxco/model.ckpt.\n",
            "INFO:tensorflow:Calling checkpoint listeners after saving checkpoint 0...\n",
            "INFO:tensorflow:loss = 0.7088546, step = 0\n",
            "WARNING:tensorflow:It seems that global step (tf.train.get_global_step) has not been increased. Current value (could be stable): 31 vs previous value: 31. You could increase the global step by passing tf.train.get_global_step() to Optimizer.apply_gradients or Optimizer.minimize.\n",
            "WARNING:tensorflow:It seems that global step (tf.train.get_global_step) has not been increased. Current value (could be stable): 46 vs previous value: 46. You could increase the global step by passing tf.train.get_global_step() to Optimizer.apply_gradients or Optimizer.minimize.\n",
            "INFO:tensorflow:Calling checkpoint listeners before saving checkpoint 50...\n",
            "INFO:tensorflow:Saving checkpoints for 50 into /tmp/tmpsh23kxco/model.ckpt.\n",
            "INFO:tensorflow:Calling checkpoint listeners after saving checkpoint 50...\n",
            "INFO:tensorflow:Loss for final step: 0.7259999.\n"
          ],
          "name": "stdout"
        },
        {
          "output_type": "execute_result",
          "data": {
            "text/plain": [
              "<tensorflow_estimator.python.estimator.canned.dnn.DNNClassifierV2 at 0x7f2e8cf93e80>"
            ]
          },
          "metadata": {
            "tags": []
          },
          "execution_count": 108
        }
      ]
    },
    {
      "cell_type": "code",
      "metadata": {
        "id": "B86DYpkHM9qI",
        "colab_type": "code",
        "outputId": "e6864c56-cf48-412f-b36f-eda11ae3cb37",
        "colab": {
          "base_uri": "https://localhost:8080/",
          "height": 373
        }
      },
      "source": [
        "eval_result = classifier.evaluate(input_func_test, steps=len(X_test))\n",
        "print('\\nTest set accuracy: {accuracy:0.3f}\\n'.format(**eval_result))"
      ],
      "execution_count": 0,
      "outputs": [
        {
          "output_type": "stream",
          "text": [
            "INFO:tensorflow:Calling model_fn.\n",
            "WARNING:tensorflow:Layer dnn is casting an input tensor from dtype float64 to the layer's dtype of float32, which is new behavior in TensorFlow 2.  The layer has dtype float32 because it's dtype defaults to floatx.\n",
            "\n",
            "If you intended to run this layer in float32, you can safely ignore this warning. If in doubt, this warning is likely only an issue if you are porting a TensorFlow 1.X model to TensorFlow 2.\n",
            "\n",
            "To change all layers to have dtype float64 by default, call `tf.keras.backend.set_floatx('float64')`. To change just this layer, pass dtype='float64' to the layer constructor. If you are the author of this layer, you can disable autocasting by passing autocast=False to the base Layer constructor.\n",
            "\n",
            "INFO:tensorflow:Done calling model_fn.\n",
            "INFO:tensorflow:Starting evaluation at 2020-04-05T21:18:18Z\n",
            "INFO:tensorflow:Graph was finalized.\n",
            "INFO:tensorflow:Restoring parameters from /tmp/tmpsh23kxco/model.ckpt-50\n",
            "INFO:tensorflow:Running local_init_op.\n",
            "INFO:tensorflow:Done running local_init_op.\n",
            "INFO:tensorflow:Inference Time : 0.77619s\n",
            "INFO:tensorflow:Finished evaluation at 2020-04-05-21:18:19\n",
            "INFO:tensorflow:Saving dict for global step 50: accuracy = 0.53106725, accuracy_baseline = 0.75548244, auc = 0.59302485, auc_precision_recall = 0.29116786, average_loss = 0.6919152, global_step = 50, label/mean = 0.24451755, loss = 0.69179606, precision = 0.2928475, prediction/mean = 0.49891755, recall = 0.64872944\n",
            "INFO:tensorflow:Saving 'checkpoint_path' summary for global step 50: /tmp/tmpsh23kxco/model.ckpt-50\n",
            "\n",
            "Test set accuracy: 0.531\n",
            "\n"
          ],
          "name": "stdout"
        }
      ]
    },
    {
      "cell_type": "code",
      "metadata": {
        "id": "pzG1Q5yEN1eZ",
        "colab_type": "code",
        "outputId": "176433dc-5264-437b-9de0-37df7c308668",
        "colab": {
          "base_uri": "https://localhost:8080/",
          "height": 356
        }
      },
      "source": [
        "fn = tf.compat.v1.estimator.inputs.pandas_input_fn(x=X_test, batch_size=len(X_test), shuffle=False)\n",
        "predictions = list(classifier.predict(input_fn=input_func_prediction))\n",
        "\n",
        "predictions[0]"
      ],
      "execution_count": 0,
      "outputs": [
        {
          "output_type": "stream",
          "text": [
            "INFO:tensorflow:Calling model_fn.\n",
            "WARNING:tensorflow:Layer dnn is casting an input tensor from dtype float64 to the layer's dtype of float32, which is new behavior in TensorFlow 2.  The layer has dtype float32 because it's dtype defaults to floatx.\n",
            "\n",
            "If you intended to run this layer in float32, you can safely ignore this warning. If in doubt, this warning is likely only an issue if you are porting a TensorFlow 1.X model to TensorFlow 2.\n",
            "\n",
            "To change all layers to have dtype float64 by default, call `tf.keras.backend.set_floatx('float64')`. To change just this layer, pass dtype='float64' to the layer constructor. If you are the author of this layer, you can disable autocasting by passing autocast=False to the base Layer constructor.\n",
            "\n",
            "INFO:tensorflow:Done calling model_fn.\n",
            "INFO:tensorflow:Graph was finalized.\n",
            "INFO:tensorflow:Restoring parameters from /tmp/tmpsh23kxco/model.ckpt-50\n",
            "INFO:tensorflow:Running local_init_op.\n",
            "INFO:tensorflow:Done running local_init_op.\n"
          ],
          "name": "stdout"
        },
        {
          "output_type": "execute_result",
          "data": {
            "text/plain": [
              "{'all_class_ids': array([0, 1], dtype=int32),\n",
              " 'all_classes': array([b'0', b'1'], dtype=object),\n",
              " 'class_ids': array([1]),\n",
              " 'classes': array([b'1'], dtype=object),\n",
              " 'logistic': array([0.5207244], dtype=float32),\n",
              " 'logits': array([0.0829453], dtype=float32),\n",
              " 'probabilities': array([0.47927555, 0.5207244 ], dtype=float32)}"
            ]
          },
          "metadata": {
            "tags": []
          },
          "execution_count": 110
        }
      ]
    },
    {
      "cell_type": "code",
      "metadata": {
        "id": "fdvuGzdaOiBI",
        "colab_type": "code",
        "colab": {}
      },
      "source": [
        "final_predictions = []\n",
        "for pred in predictions:\n",
        "  final_predictions.append(pred['class_ids'][0])"
      ],
      "execution_count": 0,
      "outputs": []
    },
    {
      "cell_type": "code",
      "metadata": {
        "id": "G4m9hsP4OvNx",
        "colab_type": "code",
        "outputId": "a52a1d31-fa83-45e2-e709-a65af229f3a2",
        "colab": {
          "base_uri": "https://localhost:8080/",
          "height": 286
        }
      },
      "source": [
        "print('Classification Report: \\n')\n",
        "print(classification_report(y_test, final_predictions))\n",
        "print('\\nConfusion_matrix: \\n')\n",
        "print(confusion_matrix(y_test, final_predictions))"
      ],
      "execution_count": 0,
      "outputs": [
        {
          "output_type": "stream",
          "text": [
            "Classification Report: \n",
            "\n",
            "              precision    recall  f1-score   support\n",
            "\n",
            "           0       0.81      0.49      0.61      2067\n",
            "           1       0.29      0.65      0.40       669\n",
            "\n",
            "    accuracy                           0.53      2736\n",
            "   macro avg       0.55      0.57      0.51      2736\n",
            "weighted avg       0.69      0.53      0.56      2736\n",
            "\n",
            "\n",
            "Confusion_matrix: \n",
            "\n",
            "[[1019 1048]\n",
            " [ 235  434]]\n"
          ],
          "name": "stdout"
        }
      ]
    },
    {
      "cell_type": "markdown",
      "metadata": {
        "id": "sCtscrM1WCDC",
        "colab_type": "text"
      },
      "source": [
        "# Clasificador Random Forest"
      ]
    },
    {
      "cell_type": "code",
      "metadata": {
        "id": "jRbbzIc7WBo_",
        "colab_type": "code",
        "outputId": "189114e5-6c5d-48ec-ed31-935d4c0b077e",
        "colab": {
          "base_uri": "https://localhost:8080/",
          "height": 151
        }
      },
      "source": [
        "rf_model = RandomForestClassifier(n_estimators=200)\n",
        "rf_model.fit(X_train_scaled, y_train)\n",
        "\n",
        "RandomForestClassifier(bootstrap=True, class_weight=None, criterion='gini',\n",
        "                       max_depth=None, max_features='auto', max_leaf_nodes=None,\n",
        "                       min_impurity_decrease=0.0, min_impurity_split=2,\n",
        "                       min_weight_fraction_leaf=0.0, n_estimators=200, n_jobs=None,\n",
        "                       oob_score=False, random_state=None, verbose=0, warm_start=False)"
      ],
      "execution_count": 0,
      "outputs": [
        {
          "output_type": "execute_result",
          "data": {
            "text/plain": [
              "RandomForestClassifier(bootstrap=True, ccp_alpha=0.0, class_weight=None,\n",
              "                       criterion='gini', max_depth=None, max_features='auto',\n",
              "                       max_leaf_nodes=None, max_samples=None,\n",
              "                       min_impurity_decrease=0.0, min_impurity_split=2,\n",
              "                       min_samples_leaf=1, min_samples_split=2,\n",
              "                       min_weight_fraction_leaf=0.0, n_estimators=200,\n",
              "                       n_jobs=None, oob_score=False, random_state=None,\n",
              "                       verbose=0, warm_start=False)"
            ]
          },
          "metadata": {
            "tags": []
          },
          "execution_count": 115
        }
      ]
    },
    {
      "cell_type": "code",
      "metadata": {
        "id": "aM8B0SaVXXqb",
        "colab_type": "code",
        "outputId": "d63ceee0-68f0-4931-fd1f-eaa060a58629",
        "colab": {
          "base_uri": "https://localhost:8080/",
          "height": 286
        }
      },
      "source": [
        "rf_prediction = rf_model.predict(X_test_scaled)\n",
        "\n",
        "print('Classification Report: \\n')\n",
        "print(classification_report(y_test, rf_prediction))\n",
        "print('\\nConfusion_matrix: \\n')\n",
        "print(confusion_matrix(y_test, rf_prediction))"
      ],
      "execution_count": 0,
      "outputs": [
        {
          "output_type": "stream",
          "text": [
            "Classification Report: \n",
            "\n",
            "              precision    recall  f1-score   support\n",
            "\n",
            "           0       0.91      0.94      0.92      2067\n",
            "           1       0.79      0.70      0.74       669\n",
            "\n",
            "    accuracy                           0.88      2736\n",
            "   macro avg       0.85      0.82      0.83      2736\n",
            "weighted avg       0.88      0.88      0.88      2736\n",
            "\n",
            "\n",
            "Confusion_matrix: \n",
            "\n",
            "[[1945  122]\n",
            " [ 202  467]]\n"
          ],
          "name": "stdout"
        }
      ]
    },
    {
      "cell_type": "code",
      "metadata": {
        "id": "tXAAT4AgYNds",
        "colab_type": "code",
        "outputId": "0cebc810-2c0f-4468-a936-f36d9849ece3",
        "colab": {
          "base_uri": "https://localhost:8080/",
          "height": 282
        }
      },
      "source": [
        "sns.heatmap(confusion_matrix(y_test, rf_prediction), annot=False)"
      ],
      "execution_count": 0,
      "outputs": [
        {
          "output_type": "execute_result",
          "data": {
            "text/plain": [
              "<matplotlib.axes._subplots.AxesSubplot at 0x7f2e8940ef28>"
            ]
          },
          "metadata": {
            "tags": []
          },
          "execution_count": 118
        },
        {
          "output_type": "display_data",
          "data": {
            "image/png": "[encoded data removed]",
            "text/plain": [
              "<Figure size 432x288 with 2 Axes>"
            ]
          },
          "metadata": {
            "tags": []
          }
        }
      ]
    }
  ]
}